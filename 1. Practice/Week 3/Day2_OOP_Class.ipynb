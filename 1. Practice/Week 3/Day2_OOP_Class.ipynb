{
 "cells": [
  {
   "cell_type": "markdown",
   "source": [
    "## Attribute creation outside class"
   ],
   "metadata": {
    "collapsed": false
   }
  },
  {
   "cell_type": "code",
   "execution_count": 17,
   "metadata": {
    "collapsed": true
   },
   "outputs": [
    {
     "name": "stdout",
     "output_type": "stream",
     "text": [
      "Name is Deepak Age is 69 Caste is Khatri\n"
     ]
    },
    {
     "ename": "AttributeError",
     "evalue": "'People' object has no attribute 'name'",
     "output_type": "error",
     "traceback": [
      "\u001B[1;31m---------------------------------------------------------------------------\u001B[0m",
      "\u001B[1;31mAttributeError\u001B[0m                            Traceback (most recent call last)",
      "Cell \u001B[1;32mIn[17], line 19\u001B[0m\n\u001B[0;32m     17\u001B[0m rashid \u001B[38;5;241m=\u001B[39m People()\n\u001B[0;32m     18\u001B[0m rashid\u001B[38;5;241m.\u001B[39mage \u001B[38;5;241m=\u001B[39m \u001B[38;5;241m72\u001B[39m\n\u001B[1;32m---> 19\u001B[0m \u001B[38;5;28mprint\u001B[39m(\u001B[43mrashid\u001B[49m\u001B[38;5;241;43m.\u001B[39;49m\u001B[43mprint_details\u001B[49m\u001B[43m(\u001B[49m\u001B[43m)\u001B[49m)\n",
      "Cell \u001B[1;32mIn[17], line 7\u001B[0m, in \u001B[0;36mPeople.print_details\u001B[1;34m(self)\u001B[0m\n\u001B[0;32m      6\u001B[0m \u001B[38;5;28;01mdef\u001B[39;00m \u001B[38;5;21mprint_details\u001B[39m(\u001B[38;5;28mself\u001B[39m):\n\u001B[1;32m----> 7\u001B[0m     \u001B[38;5;28mprint\u001B[39m(\u001B[38;5;124m\"\u001B[39m\u001B[38;5;124mName is\u001B[39m\u001B[38;5;124m\"\u001B[39m,\u001B[38;5;28;43mself\u001B[39;49m\u001B[38;5;241;43m.\u001B[39;49m\u001B[43mname\u001B[49m,\u001B[38;5;124m'\u001B[39m\u001B[38;5;124mAge is\u001B[39m\u001B[38;5;124m'\u001B[39m,\u001B[38;5;28mself\u001B[39m\u001B[38;5;241m.\u001B[39mage,\u001B[38;5;124m'\u001B[39m\u001B[38;5;124mCaste is\u001B[39m\u001B[38;5;124m'\u001B[39m,\u001B[38;5;28mself\u001B[39m\u001B[38;5;241m.\u001B[39mcaste)\n",
      "\u001B[1;31mAttributeError\u001B[0m: 'People' object has no attribute 'name'"
     ]
    }
   ],
   "source": [
    "class People:\n",
    "\n",
    "    def __int__(self):\n",
    "        self.age = 0\n",
    "\n",
    "    def print_details(self):\n",
    "        print(\"Name is\",self.name,'Age is',self.age,'Caste is',self.caste)\n",
    "\n",
    "deepak = People()\n",
    "deepak.name = 'Deepak'\n",
    "deepak.age = 69\n",
    "deepak.caste = 'Khatri'\n",
    "\n",
    "deepak.print_details()\n",
    "\n",
    "\n",
    "rashid = People()\n",
    "rashid.age = 72\n",
    "print(rashid.print_details())"
   ]
  },
  {
   "cell_type": "markdown",
   "source": [
    "## Refrence Variables"
   ],
   "metadata": {
    "collapsed": false
   }
  },
  {
   "cell_type": "code",
   "execution_count": 30,
   "outputs": [],
   "source": [
    "class Demo:\n",
    "    name = 'Deepak'\n",
    "    caste = 'Khatri'"
   ],
   "metadata": {
    "collapsed": false
   }
  },
  {
   "cell_type": "code",
   "execution_count": 31,
   "outputs": [
    {
     "name": "stdout",
     "output_type": "stream",
     "text": [
      "Deepak\n",
      "Deepak\n"
     ]
    }
   ],
   "source": [
    "a = Demo()\n",
    "b = a\n",
    "print(a.name)\n",
    "print(b.name)\n"
   ],
   "metadata": {
    "collapsed": false
   }
  },
  {
   "cell_type": "code",
   "execution_count": 32,
   "outputs": [
    {
     "name": "stdout",
     "output_type": "stream",
     "text": [
      "Aakash\n",
      "Aakash\n"
     ]
    }
   ],
   "source": [
    "a.name = 'Aakash'\n",
    "print(a.name)\n",
    "print(b.name)\n"
   ],
   "metadata": {
    "collapsed": false
   }
  },
  {
   "cell_type": "code",
   "execution_count": 33,
   "outputs": [
    {
     "name": "stdout",
     "output_type": "stream",
     "text": [
      "Deepak\n",
      "Deepak\n"
     ]
    }
   ],
   "source": [
    "\n",
    "b.name = 'Deepak'\n",
    "print(a.name)\n",
    "print(b.name)\n"
   ],
   "metadata": {
    "collapsed": false
   }
  },
  {
   "cell_type": "code",
   "execution_count": 34,
   "outputs": [
    {
     "name": "stdout",
     "output_type": "stream",
     "text": [
      "2041990879632\n",
      "2041990879632\n"
     ]
    }
   ],
   "source": [
    "\n",
    "print(id(a))\n",
    "print(id(b))"
   ],
   "metadata": {
    "collapsed": false
   }
  },
  {
   "cell_type": "code",
   "execution_count": 44,
   "outputs": [
    {
     "name": "stdout",
     "output_type": "stream",
     "text": [
      "[1, 2, 3]\n"
     ]
    }
   ],
   "source": [
    "def demo():\n",
    "    # return 1\n",
    "    return [1,2,3]\n",
    "    return 2\n",
    "a = demo()\n",
    "print(a)"
   ],
   "metadata": {
    "collapsed": false
   }
  },
  {
   "cell_type": "markdown",
   "source": [
    "## Encapsulation\n",
    "- Hide internal implementation"
   ],
   "metadata": {
    "collapsed": false
   }
  },
  {
   "cell_type": "code",
   "execution_count": 45,
   "outputs": [],
   "source": [
    "class EncapsulationExample:\n",
    "\n",
    "    def __int__(self,balance,pin):\n",
    "        self.__balance = balance\n",
    "        self.pin = pin\n",
    "\n",
    "    def print_details(self):\n",
    "        print('Balance is',self.__balance,'and pin is',self.pin)\n",
    "\n",
    "    def get_balance(self):\n",
    "        return self.__balance\n",
    "\n",
    "    def set_balance(self, new_balance):\n",
    "        self.__balance = new_balance"
   ],
   "metadata": {
    "collapsed": false
   }
  },
  {
   "cell_type": "code",
   "execution_count": 63,
   "outputs": [
    {
     "ename": "TypeError",
     "evalue": "EncapsulationExample() takes no arguments",
     "output_type": "error",
     "traceback": [
      "\u001B[1;31m---------------------------------------------------------------------------\u001B[0m",
      "\u001B[1;31mTypeError\u001B[0m                                 Traceback (most recent call last)",
      "Cell \u001B[1;32mIn[63], line 1\u001B[0m\n\u001B[1;32m----> 1\u001B[0m obj \u001B[38;5;241m=\u001B[39m \u001B[43mEncapsulationExample\u001B[49m\u001B[43m(\u001B[49m\u001B[38;5;241;43m1500\u001B[39;49m\u001B[43m,\u001B[49m\u001B[38;5;241;43m6700\u001B[39;49m\u001B[43m)\u001B[49m\n\u001B[0;32m      2\u001B[0m \u001B[38;5;28mprint\u001B[39m(obj)\n",
      "\u001B[1;31mTypeError\u001B[0m: EncapsulationExample() takes no arguments"
     ]
    }
   ],
   "source": [
    "obj = EncapsulationExample(1500,6700)\n",
    "print(obj)"
   ],
   "metadata": {
    "collapsed": false
   }
  },
  {
   "cell_type": "code",
   "execution_count": 64,
   "outputs": [
    {
     "name": "stdout",
     "output_type": "stream",
     "text": [
      "5600\n"
     ]
    }
   ],
   "source": [
    "obj.set_balance(5600)\n",
    "print(obj.get_balance())"
   ],
   "metadata": {
    "collapsed": false
   }
  },
  {
   "cell_type": "code",
   "execution_count": 65,
   "outputs": [
    {
     "name": "stdout",
     "output_type": "stream",
     "text": [
      "67\n"
     ]
    }
   ],
   "source": [
    "obj.pin = 67\n",
    "print(obj.pin)"
   ],
   "metadata": {
    "collapsed": false
   }
  },
  {
   "cell_type": "markdown",
   "source": [
    "## Static Variable vs Instance Variable\n",
    "- For every object the value of static var is same but the value of instance var is different\n",
    "- Static Variables are Class level variables but the instance variables are object level variables"
   ],
   "metadata": {
    "collapsed": false
   }
  }
 ],
 "metadata": {
  "kernelspec": {
   "display_name": "Python 3",
   "language": "python",
   "name": "python3"
  },
  "language_info": {
   "codemirror_mode": {
    "name": "ipython",
    "version": 2
   },
   "file_extension": ".py",
   "mimetype": "text/x-python",
   "name": "python",
   "nbconvert_exporter": "python",
   "pygments_lexer": "ipython2",
   "version": "2.7.6"
  }
 },
 "nbformat": 4,
 "nbformat_minor": 0
}
