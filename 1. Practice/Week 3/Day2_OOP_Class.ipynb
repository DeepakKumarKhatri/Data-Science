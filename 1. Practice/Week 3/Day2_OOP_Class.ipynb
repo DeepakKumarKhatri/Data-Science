{
 "cells": [
  {
   "cell_type": "markdown",
   "source": [
    "## Attribute creation outside class"
   ],
   "metadata": {
    "collapsed": false
   }
  },
  {
   "cell_type": "code",
   "execution_count": 16,
   "metadata": {
    "collapsed": true
   },
   "outputs": [
    {
     "name": "stdout",
     "output_type": "stream",
     "text": [
      "Name is Deepak Age is 69 Caste is Khatri\n"
     ]
    },
    {
     "ename": "AttributeError",
     "evalue": "'People' object has no attribute 'name'",
     "output_type": "error",
     "traceback": [
      "\u001B[1;31m---------------------------------------------------------------------------\u001B[0m",
      "\u001B[1;31mAttributeError\u001B[0m                            Traceback (most recent call last)",
      "Cell \u001B[1;32mIn[16], line 19\u001B[0m\n\u001B[0;32m     17\u001B[0m rashid \u001B[38;5;241m=\u001B[39m People()\n\u001B[0;32m     18\u001B[0m rashid\u001B[38;5;241m.\u001B[39mage \u001B[38;5;241m=\u001B[39m \u001B[38;5;241m72\u001B[39m\n\u001B[1;32m---> 19\u001B[0m \u001B[38;5;28mprint\u001B[39m(\u001B[43mrashid\u001B[49m\u001B[38;5;241;43m.\u001B[39;49m\u001B[43mprint_details\u001B[49m\u001B[43m(\u001B[49m\u001B[43m)\u001B[49m)\n",
      "Cell \u001B[1;32mIn[16], line 7\u001B[0m, in \u001B[0;36mPeople.print_details\u001B[1;34m(self)\u001B[0m\n\u001B[0;32m      6\u001B[0m \u001B[38;5;28;01mdef\u001B[39;00m \u001B[38;5;21mprint_details\u001B[39m(\u001B[38;5;28mself\u001B[39m):\n\u001B[1;32m----> 7\u001B[0m     \u001B[38;5;28mprint\u001B[39m(\u001B[38;5;124m\"\u001B[39m\u001B[38;5;124mName is\u001B[39m\u001B[38;5;124m\"\u001B[39m,\u001B[38;5;28;43mself\u001B[39;49m\u001B[38;5;241;43m.\u001B[39;49m\u001B[43mname\u001B[49m,\u001B[38;5;124m'\u001B[39m\u001B[38;5;124mAge is\u001B[39m\u001B[38;5;124m'\u001B[39m,\u001B[38;5;28mself\u001B[39m\u001B[38;5;241m.\u001B[39mage,\u001B[38;5;124m'\u001B[39m\u001B[38;5;124mCaste is\u001B[39m\u001B[38;5;124m'\u001B[39m,\u001B[38;5;28mself\u001B[39m\u001B[38;5;241m.\u001B[39mcaste)\n",
      "\u001B[1;31mAttributeError\u001B[0m: 'People' object has no attribute 'name'"
     ]
    }
   ],
   "source": [
    "class People:\n",
    "\n",
    "    def __int__(self):\n",
    "        self.age = 0\n",
    "\n",
    "    def print_details(self):\n",
    "        print(\"Name is\",self.name,'Age is',self.age,'Caste is',self.caste)\n",
    "\n",
    "deepak = People()\n",
    "deepak.name = 'Deepak'\n",
    "deepak.age = 69\n",
    "deepak.caste = 'Khatri'\n",
    "\n",
    "deepak.print_details()\n",
    "\n",
    "\n",
    "rashid = People()\n",
    "rashid.age = 72\n",
    "print(rashid.print_details())"
   ]
  },
  {
   "cell_type": "code",
   "execution_count": null,
   "outputs": [],
   "source": [],
   "metadata": {
    "collapsed": false
   }
  }
 ],
 "metadata": {
  "kernelspec": {
   "display_name": "Python 3",
   "language": "python",
   "name": "python3"
  },
  "language_info": {
   "codemirror_mode": {
    "name": "ipython",
    "version": 2
   },
   "file_extension": ".py",
   "mimetype": "text/x-python",
   "name": "python",
   "nbconvert_exporter": "python",
   "pygments_lexer": "ipython2",
   "version": "2.7.6"
  }
 },
 "nbformat": 4,
 "nbformat_minor": 0
}
