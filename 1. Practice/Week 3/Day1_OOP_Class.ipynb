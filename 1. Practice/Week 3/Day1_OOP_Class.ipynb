{
 "cells": [
  {
   "cell_type": "code",
   "execution_count": 16,
   "metadata": {
    "collapsed": true
   },
   "outputs": [],
   "source": [
    "class MyAtm:\n",
    "\n",
    "    # way to create a constructor\n",
    "    def __int__(self):\n",
    "        self.pin = ''\n",
    "        self.balance = 0\n",
    "        self.accountType = ''\n",
    "\n",
    "    def menu(self):\n",
    "        user_input = input(\"\"\"\n",
    "        1) Create a Pin\n",
    "        2) Change the Pin\n",
    "        3) Add the balance\n",
    "        4) Withdraw Money\n",
    "        5) View Balance\n",
    "        \"\"\")\n",
    "\n",
    "        if user_input == '1':\n",
    "            self.create_pin()\n",
    "        elif user_input == '2':\n",
    "            self.change_pin()\n",
    "        elif user_input == '3':\n",
    "            self.add_balance()\n",
    "        elif user_input == '4':\n",
    "            self.withdraw()\n",
    "        elif user_input == '5':\n",
    "            self.viewBalance()\n",
    "\n",
    "    def create_pin(self):\n",
    "        pin_code = input(\"Enter Pin\")\n",
    "        self.pin = pin_code\n",
    "        self.menu()\n",
    "\n",
    "    def add_balance(self):\n",
    "        balance = input(\"Enter balance\")\n",
    "        self.balance = balance\n",
    "        self.menu()\n",
    "\n",
    "    def change_pin(self):\n",
    "        pin_code = input(\"Enter Old Pin\")\n",
    "\n",
    "        if pin_code == self.pin:\n",
    "            pin_code = input(\"Enter New Pin\")\n",
    "            self.pin = pin_code\n",
    "        else:\n",
    "            \"invalid pin\"\n",
    "        self.menu()\n",
    "\n",
    "    def withdraw(self):\n",
    "        pin_code = input(\"Enter Pin\")\n",
    "\n",
    "        if pin_code == self.pin:\n",
    "            balance_withdraw = input(\"Enter balance to withdraw\")\n",
    "\n",
    "            if self.balance <= balance_withdraw:\n",
    "                self.balance -= balance_withdraw\n",
    "            else:\n",
    "                print(\"Not enough money\")\n",
    "        else:\n",
    "            print(\"Wrong pincode\")\n",
    "        self.menu()\n",
    "\n",
    "    def viewBalance(self):\n",
    "        print(self.balance)\n",
    "        self.menu()"
   ]
  },
  {
   "cell_type": "code",
   "execution_count": 18,
   "outputs": [
    {
     "name": "stdout",
     "output_type": "stream",
     "text": [
      "1000\n",
      "1000\n"
     ]
    },
    {
     "ename": "AttributeError",
     "evalue": "'MyAtm' object has no attribute 'pin'",
     "output_type": "error",
     "traceback": [
      "\u001B[1;31m---------------------------------------------------------------------------\u001B[0m",
      "\u001B[1;31mAttributeError\u001B[0m                            Traceback (most recent call last)",
      "Cell \u001B[1;32mIn[18], line 2\u001B[0m\n\u001B[0;32m      1\u001B[0m myAtm \u001B[38;5;241m=\u001B[39m MyAtm()\n\u001B[1;32m----> 2\u001B[0m \u001B[43mmyAtm\u001B[49m\u001B[38;5;241;43m.\u001B[39;49m\u001B[43mmenu\u001B[49m\u001B[43m(\u001B[49m\u001B[43m)\u001B[49m\n\u001B[0;32m      3\u001B[0m \u001B[38;5;66;03m# myAtm.balance\u001B[39;00m\n",
      "Cell \u001B[1;32mIn[16], line 23\u001B[0m, in \u001B[0;36mMyAtm.menu\u001B[1;34m(self)\u001B[0m\n\u001B[0;32m     21\u001B[0m     \u001B[38;5;28mself\u001B[39m\u001B[38;5;241m.\u001B[39mchange_pin()\n\u001B[0;32m     22\u001B[0m \u001B[38;5;28;01melif\u001B[39;00m user_input \u001B[38;5;241m==\u001B[39m \u001B[38;5;124m'\u001B[39m\u001B[38;5;124m3\u001B[39m\u001B[38;5;124m'\u001B[39m:\n\u001B[1;32m---> 23\u001B[0m     \u001B[38;5;28;43mself\u001B[39;49m\u001B[38;5;241;43m.\u001B[39;49m\u001B[43madd_balance\u001B[49m\u001B[43m(\u001B[49m\u001B[43m)\u001B[49m\n\u001B[0;32m     24\u001B[0m \u001B[38;5;28;01melif\u001B[39;00m user_input \u001B[38;5;241m==\u001B[39m \u001B[38;5;124m'\u001B[39m\u001B[38;5;124m4\u001B[39m\u001B[38;5;124m'\u001B[39m:\n\u001B[0;32m     25\u001B[0m     \u001B[38;5;28mself\u001B[39m\u001B[38;5;241m.\u001B[39mwithdraw()\n",
      "Cell \u001B[1;32mIn[16], line 37\u001B[0m, in \u001B[0;36mMyAtm.add_balance\u001B[1;34m(self)\u001B[0m\n\u001B[0;32m     35\u001B[0m balance \u001B[38;5;241m=\u001B[39m \u001B[38;5;28minput\u001B[39m(\u001B[38;5;124m\"\u001B[39m\u001B[38;5;124mEnter balance\u001B[39m\u001B[38;5;124m\"\u001B[39m)\n\u001B[0;32m     36\u001B[0m \u001B[38;5;28mself\u001B[39m\u001B[38;5;241m.\u001B[39mbalance \u001B[38;5;241m=\u001B[39m balance\n\u001B[1;32m---> 37\u001B[0m \u001B[38;5;28;43mself\u001B[39;49m\u001B[38;5;241;43m.\u001B[39;49m\u001B[43mmenu\u001B[49m\u001B[43m(\u001B[49m\u001B[43m)\u001B[49m\n",
      "Cell \u001B[1;32mIn[16], line 27\u001B[0m, in \u001B[0;36mMyAtm.menu\u001B[1;34m(self)\u001B[0m\n\u001B[0;32m     25\u001B[0m     \u001B[38;5;28mself\u001B[39m\u001B[38;5;241m.\u001B[39mwithdraw()\n\u001B[0;32m     26\u001B[0m \u001B[38;5;28;01melif\u001B[39;00m user_input \u001B[38;5;241m==\u001B[39m \u001B[38;5;124m'\u001B[39m\u001B[38;5;124m5\u001B[39m\u001B[38;5;124m'\u001B[39m:\n\u001B[1;32m---> 27\u001B[0m     \u001B[38;5;28;43mself\u001B[39;49m\u001B[38;5;241;43m.\u001B[39;49m\u001B[43mviewBalance\u001B[49m\u001B[43m(\u001B[49m\u001B[43m)\u001B[49m\n",
      "Cell \u001B[1;32mIn[16], line 65\u001B[0m, in \u001B[0;36mMyAtm.viewBalance\u001B[1;34m(self)\u001B[0m\n\u001B[0;32m     63\u001B[0m \u001B[38;5;28;01mdef\u001B[39;00m \u001B[38;5;21mviewBalance\u001B[39m(\u001B[38;5;28mself\u001B[39m):\n\u001B[0;32m     64\u001B[0m     \u001B[38;5;28mprint\u001B[39m(\u001B[38;5;28mself\u001B[39m\u001B[38;5;241m.\u001B[39mbalance)\n\u001B[1;32m---> 65\u001B[0m     \u001B[38;5;28;43mself\u001B[39;49m\u001B[38;5;241;43m.\u001B[39;49m\u001B[43mmenu\u001B[49m\u001B[43m(\u001B[49m\u001B[43m)\u001B[49m\n",
      "Cell \u001B[1;32mIn[16], line 27\u001B[0m, in \u001B[0;36mMyAtm.menu\u001B[1;34m(self)\u001B[0m\n\u001B[0;32m     25\u001B[0m     \u001B[38;5;28mself\u001B[39m\u001B[38;5;241m.\u001B[39mwithdraw()\n\u001B[0;32m     26\u001B[0m \u001B[38;5;28;01melif\u001B[39;00m user_input \u001B[38;5;241m==\u001B[39m \u001B[38;5;124m'\u001B[39m\u001B[38;5;124m5\u001B[39m\u001B[38;5;124m'\u001B[39m:\n\u001B[1;32m---> 27\u001B[0m     \u001B[38;5;28;43mself\u001B[39;49m\u001B[38;5;241;43m.\u001B[39;49m\u001B[43mviewBalance\u001B[49m\u001B[43m(\u001B[49m\u001B[43m)\u001B[49m\n",
      "Cell \u001B[1;32mIn[16], line 65\u001B[0m, in \u001B[0;36mMyAtm.viewBalance\u001B[1;34m(self)\u001B[0m\n\u001B[0;32m     63\u001B[0m \u001B[38;5;28;01mdef\u001B[39;00m \u001B[38;5;21mviewBalance\u001B[39m(\u001B[38;5;28mself\u001B[39m):\n\u001B[0;32m     64\u001B[0m     \u001B[38;5;28mprint\u001B[39m(\u001B[38;5;28mself\u001B[39m\u001B[38;5;241m.\u001B[39mbalance)\n\u001B[1;32m---> 65\u001B[0m     \u001B[38;5;28;43mself\u001B[39;49m\u001B[38;5;241;43m.\u001B[39;49m\u001B[43mmenu\u001B[49m\u001B[43m(\u001B[49m\u001B[43m)\u001B[49m\n",
      "Cell \u001B[1;32mIn[16], line 25\u001B[0m, in \u001B[0;36mMyAtm.menu\u001B[1;34m(self)\u001B[0m\n\u001B[0;32m     23\u001B[0m     \u001B[38;5;28mself\u001B[39m\u001B[38;5;241m.\u001B[39madd_balance()\n\u001B[0;32m     24\u001B[0m \u001B[38;5;28;01melif\u001B[39;00m user_input \u001B[38;5;241m==\u001B[39m \u001B[38;5;124m'\u001B[39m\u001B[38;5;124m4\u001B[39m\u001B[38;5;124m'\u001B[39m:\n\u001B[1;32m---> 25\u001B[0m     \u001B[38;5;28;43mself\u001B[39;49m\u001B[38;5;241;43m.\u001B[39;49m\u001B[43mwithdraw\u001B[49m\u001B[43m(\u001B[49m\u001B[43m)\u001B[49m\n\u001B[0;32m     26\u001B[0m \u001B[38;5;28;01melif\u001B[39;00m user_input \u001B[38;5;241m==\u001B[39m \u001B[38;5;124m'\u001B[39m\u001B[38;5;124m5\u001B[39m\u001B[38;5;124m'\u001B[39m:\n\u001B[0;32m     27\u001B[0m     \u001B[38;5;28mself\u001B[39m\u001B[38;5;241m.\u001B[39mviewBalance()\n",
      "Cell \u001B[1;32mIn[16], line 52\u001B[0m, in \u001B[0;36mMyAtm.withdraw\u001B[1;34m(self)\u001B[0m\n\u001B[0;32m     49\u001B[0m \u001B[38;5;28;01mdef\u001B[39;00m \u001B[38;5;21mwithdraw\u001B[39m(\u001B[38;5;28mself\u001B[39m):\n\u001B[0;32m     50\u001B[0m     pin_code \u001B[38;5;241m=\u001B[39m \u001B[38;5;28minput\u001B[39m(\u001B[38;5;124m\"\u001B[39m\u001B[38;5;124mEnter Pin\u001B[39m\u001B[38;5;124m\"\u001B[39m)\n\u001B[1;32m---> 52\u001B[0m     \u001B[38;5;28;01mif\u001B[39;00m pin_code \u001B[38;5;241m==\u001B[39m \u001B[38;5;28;43mself\u001B[39;49m\u001B[38;5;241;43m.\u001B[39;49m\u001B[43mpin\u001B[49m:\n\u001B[0;32m     53\u001B[0m         balance_withdraw \u001B[38;5;241m=\u001B[39m \u001B[38;5;28minput\u001B[39m(\u001B[38;5;124m\"\u001B[39m\u001B[38;5;124mEnter balance to withdraw\u001B[39m\u001B[38;5;124m\"\u001B[39m)\n\u001B[0;32m     55\u001B[0m         \u001B[38;5;28;01mif\u001B[39;00m \u001B[38;5;28mself\u001B[39m\u001B[38;5;241m.\u001B[39mbalance \u001B[38;5;241m<\u001B[39m\u001B[38;5;241m=\u001B[39m balance_withdraw:\n",
      "\u001B[1;31mAttributeError\u001B[0m: 'MyAtm' object has no attribute 'pin'"
     ]
    }
   ],
   "source": [
    "myAtm = MyAtm()\n",
    "myAtm.menu()"
   ],
   "metadata": {
    "collapsed": false
   }
  },
  {
   "cell_type": "markdown",
   "source": [
    "## Methods vs Functions\n",
    "- The functions which are defined in the class are known as Methods.\n",
    "- The functions which are defined outside the class are known as Functions."
   ],
   "metadata": {
    "collapsed": false
   }
  },
  {
   "cell_type": "markdown",
   "source": [
    "## Magic Methods A.K.A Dandar Methods In Python\n",
    "The methods which are not like other normal methods are magic methods.\n",
    "- Example:\n",
    "    - __init__\n",
    "    - __name__"
   ],
   "metadata": {
    "collapsed": false
   }
  }
 ],
 "metadata": {
  "kernelspec": {
   "display_name": "Python 3",
   "language": "python",
   "name": "python3"
  },
  "language_info": {
   "codemirror_mode": {
    "name": "ipython",
    "version": 2
   },
   "file_extension": ".py",
   "mimetype": "text/x-python",
   "name": "python",
   "nbconvert_exporter": "python",
   "pygments_lexer": "ipython2",
   "version": "2.7.6"
  }
 },
 "nbformat": 4,
 "nbformat_minor": 0
}
