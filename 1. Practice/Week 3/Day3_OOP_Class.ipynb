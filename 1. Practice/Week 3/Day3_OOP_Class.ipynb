{
 "cells": [
  {
   "cell_type": "markdown",
   "source": [
    "## Aggregation - Has a Relationship\n"
   ],
   "metadata": {
    "collapsed": false
   }
  },
  {
   "cell_type": "code",
   "execution_count": 15,
   "metadata": {
    "collapsed": true
   },
   "outputs": [],
   "source": [
    "class Deepak:\n",
    "    def __init__(self,name,age,university):\n",
    "        self.name = name\n",
    "        self.age = age\n",
    "        self.university = university\n",
    "\n",
    "    def print_details(self):\n",
    "        print(\"Name is\",self.name)\n",
    "        print(\"University name is\",self.university.university_name,'and rank is',self.university.rank,'and fee is',self.university.fee)\n",
    "\n",
    "class University:\n",
    "    def __init__(self,university_name,fee,rank):\n",
    "        self.university_name = university_name\n",
    "        self.fee = fee\n",
    "        self.rank = rank\n",
    "\n"
   ]
  },
  {
   "cell_type": "code",
   "execution_count": 17,
   "outputs": [
    {
     "name": "stdout",
     "output_type": "stream",
     "text": [
      "Name is Deepak\n",
      "University name is Comsats University Islamabad and rank is 90 and fee is 10000\n"
     ]
    }
   ],
   "source": [
    "uni = University(\"Comsats University Islamabad\",10000,90)\n",
    "deepak = Deepak('Deepak',19,uni)\n",
    "deepak.print_details()"
   ],
   "metadata": {
    "collapsed": false
   }
  },
  {
   "cell_type": "code",
   "execution_count": null,
   "outputs": [],
   "source": [],
   "metadata": {
    "collapsed": false
   }
  }
 ],
 "metadata": {
  "kernelspec": {
   "display_name": "Python 3",
   "language": "python",
   "name": "python3"
  },
  "language_info": {
   "codemirror_mode": {
    "name": "ipython",
    "version": 2
   },
   "file_extension": ".py",
   "mimetype": "text/x-python",
   "name": "python",
   "nbconvert_exporter": "python",
   "pygments_lexer": "ipython2",
   "version": "2.7.6"
  }
 },
 "nbformat": 4,
 "nbformat_minor": 0
}
