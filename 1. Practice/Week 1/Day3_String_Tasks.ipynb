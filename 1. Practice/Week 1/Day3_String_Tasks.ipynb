{
 "cells": [
  {
   "cell_type": "markdown",
   "source": [
    "### Find the length of a given string without using the len() function"
   ],
   "metadata": {
    "collapsed": false
   }
  },
  {
   "cell_type": "code",
   "execution_count": 4,
   "metadata": {
    "collapsed": true
   },
   "outputs": [
    {
     "name": "stdout",
     "output_type": "stream",
     "text": [
      "The length is: 12\n"
     ]
    }
   ],
   "source": [
    "count = 0\n",
    "expression = \"Deepak Kumar\"\n",
    "for i in expression:\n",
    "    count+=1\n",
    "print(\"The length is:\",count)"
   ]
  },
  {
   "cell_type": "markdown",
   "source": [
    "### Extract username from a given email.\n",
    "#### E.g if the email is khatrideepak112@gmail.com\n",
    "#### then the username should be khatrideepak112"
   ],
   "metadata": {
    "collapsed": false
   }
  },
  {
   "cell_type": "code",
   "execution_count": 47,
   "outputs": [
    {
     "name": "stdout",
     "output_type": "stream",
     "text": [
      "khatrideepak112\n",
      "khatrideepak112\n"
     ]
    }
   ],
   "source": [
    "email = \"khatrideepak112@gmail.com\"\n",
    "username = ''\n",
    "for i in email:\n",
    "    if i == '@':\n",
    "        break\n",
    "    else:\n",
    "        username+=i\n",
    "print(username)\n",
    "\n",
    "\n",
    "# Optimized One\n",
    "\n",
    "seprator_position = email.index('@')\n",
    "username = email[0:seprator_position]\n",
    "print(username)"
   ],
   "metadata": {
    "collapsed": false
   }
  },
  {
   "cell_type": "markdown",
   "source": [
    "### Count the frequency of a particular character in a provided string.\n",
    "##### Eg 'hello how are you' is the string, the frequency of h in this string is"
   ],
   "metadata": {
    "collapsed": false
   }
  },
  {
   "cell_type": "code",
   "execution_count": 6,
   "outputs": [
    {
     "name": "stdout",
     "output_type": "stream",
     "text": [
      "2\n"
     ]
    }
   ],
   "source": [
    "frequency = 0\n",
    "expression = \"hello how are you\"\n",
    "for i in expression:\n",
    "    if i == 'h':\n",
    "        frequency+=1\n",
    "print(frequency)"
   ],
   "metadata": {
    "collapsed": false
   }
  },
  {
   "cell_type": "markdown",
   "source": [
    "### Write a program which can remove a particular character from a string."
   ],
   "metadata": {
    "collapsed": false
   }
  },
  {
   "cell_type": "code",
   "execution_count": 7,
   "outputs": [
    {
     "name": "stdout",
     "output_type": "stream",
     "text": [
      "Deepak Kumar\n"
     ]
    }
   ],
   "source": [
    "expression = \"Deepak Kumari\"\n",
    "newExpression = ''\n",
    "for i in expression:\n",
    "    if i != 'i':\n",
    "        newExpression+=i\n",
    "print(newExpression)"
   ],
   "metadata": {
    "collapsed": false
   }
  },
  {
   "cell_type": "markdown",
   "source": [
    "### Write a program that can check whether a given string is palindrome or not.\n",
    "#### abba\n",
    "#### malayalam"
   ],
   "metadata": {
    "collapsed": false
   }
  },
  {
   "cell_type": "code",
   "execution_count": 16,
   "outputs": [
    {
     "name": "stdout",
     "output_type": "stream",
     "text": [
      "Palindrome\n"
     ]
    }
   ],
   "source": [
    "expression = 'malayalam'\n",
    "reverseExpression = expression[::-1]\n",
    "if expression != reverseExpression:\n",
    "    print(\"Not Palindrome\")\n",
    "else:\n",
    "    print(\"Palindrome\")"
   ],
   "metadata": {
    "collapsed": false
   }
  },
  {
   "cell_type": "markdown",
   "source": [
    "### Write a program to count the number of words in a string without split()"
   ],
   "metadata": {
    "collapsed": false
   }
  },
  {
   "cell_type": "code",
   "execution_count": 22,
   "outputs": [
    {
     "name": "stdout",
     "output_type": "stream",
     "text": [
      "8\n"
     ]
    }
   ],
   "source": [
    "expression = \"Deepak will be the data scientist in future\"\n",
    "count = 1\n",
    "for i in expression:\n",
    "    if i == ' ':\n",
    "        count+=1\n",
    "print(count)"
   ],
   "metadata": {
    "collapsed": false
   }
  },
  {
   "cell_type": "markdown",
   "source": [
    "#### Write a python program to convert a string to title case without using the title()"
   ],
   "metadata": {
    "collapsed": false
   }
  },
  {
   "cell_type": "code",
   "execution_count": 51,
   "outputs": [
    {
     "name": "stdout",
     "output_type": "stream",
     "text": [
      "Deepak Is Boy \n"
     ]
    }
   ],
   "source": [
    "expression = \"deepak is boy\"\n",
    "newExpression = ''\n",
    "\n",
    "for i in expression.split():\n",
    "    newExpression = newExpression+i[0].upper()+i[1:]+' '\n",
    "print(newExpression)\n"
   ],
   "metadata": {
    "collapsed": false
   }
  },
  {
   "cell_type": "markdown",
   "source": [
    "### Write a program that can convert an integer to string.\n"
   ],
   "metadata": {
    "collapsed": false
   }
  },
  {
   "cell_type": "markdown",
   "source": [],
   "metadata": {
    "collapsed": false
   }
  },
  {
   "cell_type": "code",
   "execution_count": 46,
   "outputs": [
    {
     "name": "stdout",
     "output_type": "stream",
     "text": [
      "<class 'int'>\n",
      "<class 'str'>\n"
     ]
    }
   ],
   "source": [
    "digit = 7865\n",
    "print(type(digit))\n",
    "digit_to_string = str(digit)\n",
    "print(type(digit_to_string))"
   ],
   "metadata": {
    "collapsed": false
   }
  }
 ],
 "metadata": {
  "kernelspec": {
   "display_name": "Python 3",
   "language": "python",
   "name": "python3"
  },
  "language_info": {
   "codemirror_mode": {
    "name": "ipython",
    "version": 2
   },
   "file_extension": ".py",
   "mimetype": "text/x-python",
   "name": "python",
   "nbconvert_exporter": "python",
   "pygments_lexer": "ipython2",
   "version": "2.7.6"
  }
 },
 "nbformat": 4,
 "nbformat_minor": 0
}
