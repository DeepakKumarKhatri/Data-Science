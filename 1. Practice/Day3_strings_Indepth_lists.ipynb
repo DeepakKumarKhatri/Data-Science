{
 "cells": [
  {
   "cell_type": "markdown",
   "source": [
    "### Program - The current population of a town is 10000. The population of the town is increasing at the rate of 10% per year. You have to write a program to find out the population at the end of each of the last 10 years."
   ],
   "metadata": {
    "collapsed": false
   }
  },
  {
   "cell_type": "code",
   "execution_count": 1,
   "metadata": {
    "collapsed": true
   },
   "outputs": [
    {
     "name": "stdout",
     "output_type": "stream",
     "text": [
      "At Year 10 Is 10000\n",
      "At Year 9 Is 9090.90909090909\n",
      "At Year 8 Is 8264.462809917353\n",
      "At Year 7 Is 7513.148009015775\n",
      "At Year 6 Is 6830.134553650703\n",
      "At Year 5 Is 6209.213230591548\n",
      "At Year 4 Is 5644.739300537771\n",
      "At Year 3 Is 5131.5811823070635\n",
      "At Year 2 Is 4665.07380209733\n",
      "At Year 1 Is 4240.976183724845\n"
     ]
    }
   ],
   "source": [
    "current_population = 10000\n",
    "# We have x = 10000 and decreasing rate of x = 0.1\n",
    "# so, the x will be x+0.1x which is equal to 1.1x or 110%\n",
    "rate_of_increasing = 1.1\n",
    "\n",
    "for i in range(10,0,-1):\n",
    "    print(\"At Year\",i,\"Is\",current_population)\n",
    "    current_population = current_population/rate_of_increasing"
   ]
  },
  {
   "cell_type": "markdown",
   "source": [
    "### Sequence sum\n",
    "\n",
    "1/1! + 2/2! + 3/3! + ..."
   ],
   "metadata": {
    "collapsed": false
   }
  },
  {
   "cell_type": "code",
   "execution_count": 2,
   "outputs": [
    {
     "name": "stdout",
     "output_type": "stream",
     "text": [
      "2.7182818284590455\n"
     ]
    }
   ],
   "source": [
    "import math\n",
    "number = eval(input(\"Enter Number: \"))\n",
    "sum = 0\n",
    "for i in range(1,number+1):\n",
    "    sum = sum+(i/math.factorial(i))\n",
    "print(sum)"
   ],
   "metadata": {
    "collapsed": false
   }
  },
  {
   "cell_type": "markdown",
   "source": [
    "### Pattern 1\n",
    "\n",
    "\n",
    ".\n",
    "** <br>\n",
    "***<br>\n"
   ],
   "metadata": {
    "collapsed": false
   }
  },
  {
   "cell_type": "code",
   "execution_count": 3,
   "outputs": [
    {
     "name": "stdout",
     "output_type": "stream",
     "text": [
      "* \n",
      "* * \n",
      "* * * \n",
      "* * * * \n",
      "* * * * * \n",
      "* * * * * * \n",
      "* * * * * * * \n",
      "* * * * * * * * \n",
      "* * * * * * * * * \n",
      "* * * * * * * * * * \n",
      "* * * * * * * * * * * \n",
      "* * * * * * * * * * * * \n",
      "* * * * * * * * * * * * * \n",
      "* * * * * * * * * * * * * * \n",
      "* * * * * * * * * * * * * * * \n",
      "* * * * * * * * * * * * * * * * \n",
      "* * * * * * * * * * * * * * * * * \n",
      "* * * * * * * * * * * * * * * * * * \n",
      "* * * * * * * * * * * * * * * * * * * \n",
      "* * * * * * * * * * * * * * * * * * * * \n",
      "* * * * * * * * * * * * * * * * * * * * * \n",
      "* * * * * * * * * * * * * * * * * * * * * * \n",
      "* * * * * * * * * * * * * * * * * * * * * * * \n",
      "* * * * * * * * * * * * * * * * * * * * * * * * \n",
      "* * * * * * * * * * * * * * * * * * * * * * * * * \n",
      "* * * * * * * * * * * * * * * * * * * * * * * * * * \n",
      "* * * * * * * * * * * * * * * * * * * * * * * * * * * \n",
      "* * * * * * * * * * * * * * * * * * * * * * * * * * * * \n",
      "* * * * * * * * * * * * * * * * * * * * * * * * * * * * * \n",
      "* * * * * * * * * * * * * * * * * * * * * * * * * * * * * * \n",
      "* * * * * * * * * * * * * * * * * * * * * * * * * * * * * * * \n",
      "* * * * * * * * * * * * * * * * * * * * * * * * * * * * * * * * \n",
      "* * * * * * * * * * * * * * * * * * * * * * * * * * * * * * * * * \n",
      "* * * * * * * * * * * * * * * * * * * * * * * * * * * * * * * * * * \n",
      "* * * * * * * * * * * * * * * * * * * * * * * * * * * * * * * * * * * \n",
      "* * * * * * * * * * * * * * * * * * * * * * * * * * * * * * * * * * * * \n",
      "* * * * * * * * * * * * * * * * * * * * * * * * * * * * * * * * * * * * * \n",
      "* * * * * * * * * * * * * * * * * * * * * * * * * * * * * * * * * * * * * * \n",
      "* * * * * * * * * * * * * * * * * * * * * * * * * * * * * * * * * * * * * * * \n",
      "* * * * * * * * * * * * * * * * * * * * * * * * * * * * * * * * * * * * * * * * \n",
      "* * * * * * * * * * * * * * * * * * * * * * * * * * * * * * * * * * * * * * * * * \n",
      "* * * * * * * * * * * * * * * * * * * * * * * * * * * * * * * * * * * * * * * * * * \n",
      "* * * * * * * * * * * * * * * * * * * * * * * * * * * * * * * * * * * * * * * * * * * \n",
      "* * * * * * * * * * * * * * * * * * * * * * * * * * * * * * * * * * * * * * * * * * * * \n",
      "* * * * * * * * * * * * * * * * * * * * * * * * * * * * * * * * * * * * * * * * * * * * * \n"
     ]
    }
   ],
   "source": [
    "number = eval(input(\"Enter Number: \"))\n",
    "for i in range(1,number+1):\n",
    "    for j in range(i):\n",
    "        print('*',end=' ')\n",
    "    print()"
   ],
   "metadata": {
    "collapsed": false
   }
  },
  {
   "cell_type": "markdown",
   "source": [
    "## Loop Control Statement\n",
    "- Break -> Break the whole loop  and not continue again\n",
    "- Continue -> Skip the loop at specific condition and continue again\n",
    "- Pass -> pass statement is used as a placeholder for future code"
   ],
   "metadata": {
    "collapsed": false
   }
  },
  {
   "cell_type": "markdown",
   "source": [
    "## Strings"
   ],
   "metadata": {
    "collapsed": false
   }
  },
  {
   "cell_type": "code",
   "execution_count": 8,
   "outputs": [
    {
     "name": "stdout",
     "output_type": "stream",
     "text": [
      "Deepak\n",
      "Deepak\n",
      "Deepak\n",
      "Kumar\n"
     ]
    }
   ],
   "source": [
    "s = 'Deepak'\n",
    "print(s)\n",
    "s = \"Deepak\"\n",
    "print(s)\n",
    "\n",
    "# Multiline\n",
    "s = \"\"\"Deepak\n",
    "Kumar\"\"\"\n",
    "print(s)"
   ],
   "metadata": {
    "collapsed": false
   }
  },
  {
   "cell_type": "code",
   "execution_count": 32,
   "outputs": [
    {
     "name": "stdout",
     "output_type": "stream",
     "text": [
      "H\n",
      "I\n",
      "Hel\n",
      "Hello I'm\n",
      "HloI\n",
      "r\n",
      "\n",
      "Hello I'm Deepak Kumar\n",
      "llo I'm Deepak Kumar\n",
      "He\n",
      "For reverse:::::::::::::::::::: I olle\n",
      "swolleF nIdekniL olleH\n"
     ]
    }
   ],
   "source": [
    "demo_string = \"Hello I'm Deepak Kumar\"\n",
    "\n",
    "# Indexing\n",
    "\n",
    "print(demo_string[0])\n",
    "print(demo_string[6])\n",
    "print(demo_string[0:3])\n",
    "print(demo_string[0:9])\n",
    "print(demo_string[0:7:2])\n",
    "print(demo_string[-1])\n",
    "print(demo_string[-9:-45])\n",
    "print(demo_string[:])\n",
    "print(demo_string[2:])\n",
    "print(demo_string[:2])\n",
    "\n",
    "# FOR REVERSE\n",
    "print(\"For reverse::::::::::::::::::::\",demo_string[6:0:-1])\n",
    "\n",
    "# Reverse whole string in one line\n",
    "magic_of_python = \"Hello LinkedIn Fellows\"\n",
    "print(magic_of_python[::-1])"
   ],
   "metadata": {
    "collapsed": false
   }
  },
  {
   "cell_type": "markdown",
   "source": [
    "# More on Indexing"
   ],
   "metadata": {
    "collapsed": false
   }
  },
  {
   "cell_type": "code",
   "execution_count": 38,
   "outputs": [
    {
     "name": "stdout",
     "output_type": "stream",
     "text": [
      "World\n",
      "dlroW\n"
     ]
    }
   ],
   "source": [
    "random = \"Hello World\"\n",
    "print(random[-5:])\n",
    "print(random[:5:-1])"
   ],
   "metadata": {
    "collapsed": false
   }
  },
  {
   "cell_type": "markdown",
   "source": [
    "## Operations on Strings"
   ],
   "metadata": {
    "collapsed": false
   }
  },
  {
   "cell_type": "code",
   "execution_count": 44,
   "outputs": [
    {
     "ename": "NameError",
     "evalue": "name 's' is not defined",
     "output_type": "error",
     "traceback": [
      "\u001B[1;31m---------------------------------------------------------------------------\u001B[0m",
      "\u001B[1;31mNameError\u001B[0m                                 Traceback (most recent call last)",
      "Cell \u001B[1;32mIn[44], line 7\u001B[0m\n\u001B[0;32m      2\u001B[0m \u001B[38;5;66;03m# String is immutable in Python\u001B[39;00m\n\u001B[0;32m      3\u001B[0m \u001B[38;5;66;03m# str[0] = 'W'\u001B[39;00m\n\u001B[0;32m      4\u001B[0m \n\u001B[0;32m      5\u001B[0m \u001B[38;5;66;03m# delete a string\u001B[39;00m\n\u001B[0;32m      6\u001B[0m \u001B[38;5;28;01mdel\u001B[39;00m s\n\u001B[1;32m----> 7\u001B[0m \u001B[38;5;28mprint\u001B[39m(\u001B[43ms\u001B[49m)\n",
      "\u001B[1;31mNameError\u001B[0m: name 's' is not defined"
     ]
    }
   ],
   "source": [
    "str = \"Hello world\"\n",
    "# String is immutable in Python\n",
    "# str[0] = 'W'\n",
    "\n",
    "# delete a string\n",
    "del s\n",
    "print(s)"
   ],
   "metadata": {
    "collapsed": false
   }
  },
  {
   "cell_type": "markdown",
   "source": [
    "## Operations on Strings\n",
    "\n",
    "- Arithmetic Operations\n",
    "- Relational Operations\n",
    "- Logical Operations\n",
    "- Loops on Strings\n",
    "- Membership Operations"
   ],
   "metadata": {
    "collapsed": false
   }
  },
  {
   "cell_type": "code",
   "execution_count": 59,
   "outputs": [
    {
     "name": "stdout",
     "output_type": "stream",
     "text": [
      "Hyderabad Karachi\n",
      "karachi karachi karachi karachi karachi \n"
     ]
    }
   ],
   "source": [
    "# Arhtimetic\n",
    "print(\"Hyderabad\"+\" Karachi\")\n",
    "print('karachi '*5)\n",
    "\n"
   ],
   "metadata": {
    "collapsed": false
   }
  },
  {
   "cell_type": "code",
   "execution_count": 60,
   "outputs": [
    {
     "name": "stdout",
     "output_type": "stream",
     "text": [
      "False\n",
      "False\n",
      "True\n",
      "True\n",
      "True\n",
      "False\n"
     ]
    }
   ],
   "source": [
    "# Relational\n",
    "# Lexigraphically comparision of string happens here\n",
    "print(\"Deepak\" > \"Kumar\")\n",
    "print(\"Deepak\" >= \"Kumar\")\n",
    "print(\"Deepak\" < \"Kumar\")\n",
    "print(\"Deepak\" <= \"Kumar\")\n",
    "print(\"Deepak\" == \"Deepak\")\n",
    "print(\"Deepak\" != \"Deepak\")\n",
    "\n"
   ],
   "metadata": {
    "collapsed": false
   }
  },
  {
   "cell_type": "code",
   "execution_count": 61,
   "outputs": [
    {
     "name": "stdout",
     "output_type": "stream",
     "text": [
      "Kumar\n",
      "Deepak\n",
      "\n",
      "Kumar\n",
      "Hello\n",
      "Deepak\n",
      "True\n",
      "False\n"
     ]
    }
   ],
   "source": [
    "# Logical\n",
    "# If string has character ===> true\n",
    "# If string is empty ===> false\n",
    "print('Deepak' and 'Kumar')\n",
    "print('Deepak' or 'Kumar')\n",
    "print('' and 'Kumar')\n",
    "print('' or 'Kumar')\n",
    "print('Deepak' and 'Kumar' and 'Hello')\n",
    "print('Deepak' or 'Kumar' or 'Hello')\n",
    "\n",
    "print(not '')\n",
    "print(not 'Deepak')"
   ],
   "metadata": {
    "collapsed": false
   }
  },
  {
   "cell_type": "code",
   "execution_count": 65,
   "outputs": [
    {
     "name": "stdout",
     "output_type": "stream",
     "text": [
      "Keep going Deepak You are doing great!\n",
      "Keep going Deepak You are doing great!\n",
      "Keep going Deepak You are doing great!\n",
      "Keep going Deepak You are doing great!\n",
      "Keep going Deepak You are doing great!\n",
      "Keep going Deepak You are doing great!\n",
      "Keep going Deepak You are doing great!\n",
      "Keep going Deepak You are doing great!\n",
      "Keep going Deepak You are doing great!\n"
     ]
    }
   ],
   "source": [
    "for i in 'Hyderabad':\n",
    "    print('Keep going Deepak You are doing great!')"
   ],
   "metadata": {
    "collapsed": false
   }
  },
  {
   "cell_type": "code",
   "execution_count": 64,
   "outputs": [
    {
     "name": "stdout",
     "output_type": "stream",
     "text": [
      "True\n",
      "False\n",
      "False\n"
     ]
    }
   ],
   "source": [
    "# Membership Operators\n",
    "print('D' in 'Deepak')\n",
    "print('Depak' in 'Deepak')\n",
    "print('D' not in 'Deepak')\n"
   ],
   "metadata": {
    "collapsed": false
   }
  },
  {
   "cell_type": "markdown",
   "source": [
    "# Functions of Strings"
   ],
   "metadata": {
    "collapsed": false
   }
  },
  {
   "cell_type": "code",
   "execution_count": 78,
   "outputs": [
    {
     "name": "stdout",
     "output_type": "stream",
     "text": [
      "37\n",
      "y\n",
      " \n",
      "[' ', ' ', ' ', ' ', ' ', ' ', ' ', 'I', 'I', 'S', 'a', 'a', 'b', 'c', 'd', 'd', 'd', 'e', 'e', 'e', 'h', 'h', 'h', 'i', 'i', 'i', 'i', 'l', 'n', 'n', 'r', 's', 't', 't', 'v', 'y', 'y']\n",
      "['y', 'y', 'v', 't', 't', 's', 'r', 'n', 'n', 'l', 'i', 'i', 'i', 'i', 'h', 'h', 'h', 'e', 'e', 'e', 'd', 'd', 'd', 'c', 'b', 'a', 'a', 'S', 'I', 'I', ' ', ' ', ' ', ' ', ' ', ' ', ' ']\n"
     ]
    }
   ],
   "source": [
    "lets_career = 'hyderabad Sindh is the city I live In'\n",
    "print(len(lets_career))\n",
    "print(max(lets_career)) # maximum char on the basis of asci character\n",
    "print(min(lets_career))\n",
    "print(sorted(lets_career))\n",
    "print(sorted(lets_career,reverse=True))\n"
   ],
   "metadata": {
    "collapsed": false
   }
  },
  {
   "cell_type": "code",
   "execution_count": 83,
   "outputs": [
    {
     "name": "stdout",
     "output_type": "stream",
     "text": [
      "Hyderabad sindh is the city i live in\n",
      "['hyderabad', 'Sindh', 'is', 'the', 'city', 'I', 'live', 'In']\n",
      "Hyderabad Sindh Is The City I Live In\n",
      "HYDERABAD SINDH IS THE CITY I LIVE IN\n",
      "hyderabad sindh is the city i live in\n"
     ]
    },
    {
     "data": {
      "text/plain": "'lOwEr To hIgHer aNd hIgHer To lOwEr'"
     },
     "execution_count": 83,
     "metadata": {},
     "output_type": "execute_result"
    }
   ],
   "source": [
    "# The functions specific to strings\n",
    "\n",
    "print(lets_career.capitalize())\n",
    "\n",
    "print(lets_career.split())\n",
    "\n",
    "print(lets_career.title()) #First letter of every character to capititlize\n",
    "\n",
    "print(lets_career.upper())\n",
    "\n",
    "print(lets_career.lower())\n",
    "\n",
    "'LoWeR tO HiGhER AnD HiGhER tO LoWeR'.swapcase()"
   ],
   "metadata": {
    "collapsed": false
   }
  },
  {
   "cell_type": "code",
   "execution_count": 92,
   "outputs": [
    {
     "name": "stdout",
     "output_type": "stream",
     "text": [
      "3\n",
      "11\n",
      "11\n"
     ]
    }
   ],
   "source": [
    "# Count/Find/Index\n",
    "\n",
    "print(lets_career.count('h'))\n",
    "# Index and find are same but the difference is when index doesn't find any substring then it throws error but find doesn't\n",
    "print(lets_career.find('i')) # find substring in string\n",
    "print(lets_career.index('i'))"
   ],
   "metadata": {
    "collapsed": false
   }
  },
  {
   "cell_type": "code",
   "execution_count": 95,
   "outputs": [
    {
     "name": "stdout",
     "output_type": "stream",
     "text": [
      "False\n",
      "True\n"
     ]
    }
   ],
   "source": [
    "print(lets_career.endswith('H'))\n",
    "print(lets_career.startswith('h'))"
   ],
   "metadata": {
    "collapsed": false
   }
  },
  {
   "cell_type": "code",
   "execution_count": 102,
   "outputs": [
    {
     "name": "stdout",
     "output_type": "stream",
     "text": [
      "Hello I am Deepak and I am Male\n",
      "Hello I am Male and I am Deepak\n"
     ]
    }
   ],
   "source": [
    "name = 'Deepak'\n",
    "gender = 'Male'\n",
    "\n",
    "print('Hello I am {} and I am {}'.format(name,gender))\n",
    "print('Hello I am {1} and I am {0}'.format(name,gender))\n"
   ],
   "metadata": {
    "collapsed": false
   }
  },
  {
   "cell_type": "code",
   "execution_count": 109,
   "outputs": [
    {
     "name": "stdout",
     "output_type": "stream",
     "text": [
      "True\n",
      "False\n",
      "False\n",
      "False\n",
      "True\n"
     ]
    }
   ],
   "source": [
    "demo_string = '123456delpak'\n",
    "print(demo_string.isalnum())\n",
    "print(demo_string.isalpha())\n",
    "print(demo_string.isdigit())\n",
    "print(demo_string.isidentifier())\n",
    "\n",
    "demo_string = 'deepak_123'\n",
    "print(demo_string.isidentifier())\n",
    "\n"
   ],
   "metadata": {
    "collapsed": false
   }
  },
  {
   "cell_type": "code",
   "execution_count": 118,
   "outputs": [
    {
     "name": "stdout",
     "output_type": "stream",
     "text": [
      "['hyderabad', 'Sindh', 'is', 'the', 'city', 'I', 'live', 'In']\n",
      "['hyderabad S', 'ndh ', 's the c', 'ty I l', 've In']\n",
      "['hyderabad Sindh ', ' the city I live In']\n",
      "hyderabad Sindh is the city I live In\n"
     ]
    }
   ],
   "source": [
    "print(lets_career.split())\n",
    "\n",
    "print(lets_career.split('i'))\n",
    "\n",
    "print(lets_career.split('is'))\n",
    "\n",
    "\n",
    "\n",
    "\n",
    "# print(lets_career.join(\"Deepak is the best person here\"))\n",
    "print(\" \".join(['hyderabad', 'Sindh', 'is', 'the', 'city', 'I', 'live', 'In']))\n"
   ],
   "metadata": {
    "collapsed": false
   }
  },
  {
   "cell_type": "code",
   "execution_count": 121,
   "outputs": [
    {
     "name": "stdout",
     "output_type": "stream",
     "text": [
      "Karan is a boy\n"
     ]
    }
   ],
   "source": [
    "# Replace\n",
    "print('Deepak is a boy'.replace('Deepak','Karan'))\n"
   ],
   "metadata": {
    "collapsed": false
   }
  },
  {
   "cell_type": "code",
   "execution_count": 126,
   "outputs": [
    {
     "name": "stdout",
     "output_type": "stream",
     "text": [
      "Deepak\n"
     ]
    }
   ],
   "source": [
    "# Strip\n",
    "# Removes space\n",
    "print('Deepak                          '.strip())\n"
   ],
   "metadata": {
    "collapsed": false
   }
  }
 ],
 "metadata": {
  "kernelspec": {
   "display_name": "Python 3",
   "language": "python",
   "name": "python3"
  },
  "language_info": {
   "codemirror_mode": {
    "name": "ipython",
    "version": 2
   },
   "file_extension": ".py",
   "mimetype": "text/x-python",
   "name": "python",
   "nbconvert_exporter": "python",
   "pygments_lexer": "ipython2",
   "version": "2.7.6"
  }
 },
 "nbformat": 4,
 "nbformat_minor": 0
}
