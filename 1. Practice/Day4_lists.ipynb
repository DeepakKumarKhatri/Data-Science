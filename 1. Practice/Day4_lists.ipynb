{
 "cells": [
  {
   "cell_type": "markdown",
   "source": [
    "## Lists"
   ],
   "metadata": {
    "collapsed": false
   }
  },
  {
   "cell_type": "code",
   "execution_count": 21,
   "metadata": {
    "collapsed": true
   },
   "outputs": [
    {
     "name": "stdout",
     "output_type": "stream",
     "text": [
      "[1, 2, 3, 4.6, 7.8, True, False, [2, 3, 4], (9, 0, 4), 'Hello Deepak', 'Kumar khatri']\n"
     ]
    }
   ],
   "source": [
    "deepak_items = [1,2,3,4.6,7.8,True,False,[2,3,4],(9,0,4),\"Hello Deepak\",'Kumar khatri']\n",
    "print(deepak_items)"
   ]
  },
  {
   "cell_type": "markdown",
   "source": [
    "## Creating List"
   ],
   "metadata": {
    "collapsed": false
   }
  },
  {
   "cell_type": "code",
   "execution_count": 22,
   "outputs": [
    {
     "name": "stdout",
     "output_type": "stream",
     "text": [
      "[]\n",
      "[1, 2, 3, 4]\n",
      "[[1, 2, 3], [1, 2, 3]]\n",
      "[[1, 2, 3], 1, 2, 3]\n",
      "[1, 2, 3]\n",
      "1\n",
      "['D', 'e', 'e', 'p', 'a', 'k']\n"
     ]
    }
   ],
   "source": [
    "# Empty\n",
    "print([])\n",
    "# 1D List\n",
    "print([1,2,3,4])\n",
    "# 2D List\n",
    "print([[1,2,3],[1,2,3]])\n",
    "# 3D List\n",
    "three_dimensional_list = [[[1,2,3],1,2,3],1,2,3]\n",
    "print(three_dimensional_list[0])\n",
    "print(three_dimensional_list[0][0])\n",
    "print(three_dimensional_list[0][0][0])\n",
    "\n",
    "#Type Conversion\n",
    "print(list(\"Deepak\"))"
   ],
   "metadata": {
    "collapsed": false
   }
  },
  {
   "cell_type": "markdown",
   "source": [
    "## Accessing Elements in List\n",
    "- Slicing\n",
    "- Indexing"
   ],
   "metadata": {
    "collapsed": false
   }
  },
  {
   "cell_type": "markdown",
   "source": [
    "### Indexing"
   ],
   "metadata": {
    "collapsed": false
   }
  },
  {
   "cell_type": "code",
   "execution_count": 23,
   "outputs": [
    {
     "name": "stdout",
     "output_type": "stream",
     "text": [
      "1\n",
      "6\n",
      "[6, 7]\n",
      "2\n",
      "6\n",
      "7\n"
     ]
    }
   ],
   "source": [
    "items = [1,2,3,4,5,[6,7]]\n",
    "#Positive indexing\n",
    "print(items[0])\n",
    "#Lets enter into the list of list\n",
    "print(items[5][0])\n",
    "\n",
    "#Negative indexing\n",
    "print(items[-1])\n",
    "print(items[-5])\n",
    "#Lets enter into the list of list\n",
    "print(items[-1][0])\n",
    "\n",
    "\n",
    "items = [[[9,8,6],[1,2,3],[4,7,6]],[9,8,0]]\n",
    "print(items[0][2][1])\n"
   ],
   "metadata": {
    "collapsed": false
   }
  },
  {
   "cell_type": "markdown",
   "source": [
    "### Slicing"
   ],
   "metadata": {
    "collapsed": false
   }
  },
  {
   "cell_type": "code",
   "execution_count": 24,
   "outputs": [
    {
     "name": "stdout",
     "output_type": "stream",
     "text": [
      "[1, 2, 3, 4, 5, [6, 7]]\n",
      "[1, 2, 3]\n",
      "[[6, 7], 5, 4, 3, 2, 1]\n",
      "[4, 5, [6, 7]]\n",
      "[1, 3, 5]\n"
     ]
    }
   ],
   "source": [
    "items = [1,2,3,4,5,[6,7]]\n",
    "print(items[:])\n",
    "print(items[0:3])\n",
    "print(items[::-1])\n",
    "print(items[3:])\n",
    "print(items[0::2])"
   ],
   "metadata": {
    "collapsed": false
   }
  },
  {
   "cell_type": "markdown",
   "source": [
    "### Adding items to a List"
   ],
   "metadata": {
    "collapsed": false
   }
  },
  {
   "cell_type": "code",
   "execution_count": 25,
   "outputs": [
    {
     "name": "stdout",
     "output_type": "stream",
     "text": [
      "[1, 2, 3, 4, ['This', 'Is', 'Result', 'of', 'Append']]\n",
      "[1, 2, 3, 4, ['This', 'Is', 'Result', 'of', 'Append'], 5, 6, 7]\n",
      "[1, 2, 3, 4, ['This', 'Is', 'Result', 'of', 'Append'], 5, 6, 7, 'D', 'e', 'e', 'p', 'a', 'k', ' ', 'K', 'u', 'm', 'a', 'r']\n",
      "[1, 'Deepak', 2, 3, 4, 5, 6]\n"
     ]
    }
   ],
   "source": [
    "# append\n",
    "l = [1,2,3]\n",
    "l.append(4)\n",
    "l.append([\"This\",\"Is\",\"Result\",\"of\",\"Append\"])\n",
    "print(l)\n",
    "\n",
    "#extend --> Add multiple items in one go\n",
    "l.extend([5,6,7])\n",
    "print(l)\n",
    "\n",
    "l.extend(\"Deepak Kumar\")\n",
    "print(l)\n",
    "\n",
    "\n",
    "\n",
    "#insert --> add at your desired index in list\n",
    "l = [1,2,3,4,5,6]\n",
    "l.insert(1,\"Deepak\")\n",
    "print(l)"
   ],
   "metadata": {
    "collapsed": false
   }
  },
  {
   "cell_type": "markdown",
   "source": [
    "## Editing In Lists"
   ],
   "metadata": {
    "collapsed": false
   }
  },
  {
   "cell_type": "code",
   "execution_count": 26,
   "outputs": [
    {
     "name": "stdout",
     "output_type": "stream",
     "text": [
      "[1, 2, 3, 500]\n",
      "[200, 300, 400, 500]\n"
     ]
    }
   ],
   "source": [
    "items = [1,2,3,4]\n",
    "# Using Indexes\n",
    "items[-1] = 500\n",
    "print(items)\n",
    "\n",
    "# Using Slicing\n",
    "items[0:3] = [200,300,400]\n",
    "print(items)"
   ],
   "metadata": {
    "collapsed": false
   }
  },
  {
   "cell_type": "markdown",
   "source": [
    "## Deleting"
   ],
   "metadata": {
    "collapsed": false
   }
  },
  {
   "cell_type": "code",
   "execution_count": 27,
   "outputs": [
    {
     "name": "stdout",
     "output_type": "stream",
     "text": [
      "[1, 2, 3, 4]\n",
      "[1, 2, 3]\n",
      "[3]\n"
     ]
    }
   ],
   "source": [
    "items = [1,2,3,4]\n",
    "\n",
    "#del\n",
    "# del items # Delete whole list\n",
    "print(items)\n",
    "\n",
    "# indexing\n",
    "del items[-1]\n",
    "print(items)\n",
    "\n",
    "# slicing\n",
    "del items[0:2]\n",
    "print(items)"
   ],
   "metadata": {
    "collapsed": false
   }
  },
  {
   "cell_type": "code",
   "execution_count": 28,
   "outputs": [
    {
     "name": "stdout",
     "output_type": "stream",
     "text": [
      "[1, 3, 4]\n"
     ]
    }
   ],
   "source": [
    "# remove\n",
    "items = [1,2,3,4]\n",
    "# specify the element itself not its index\n",
    "items.remove(2)\n",
    "print(items)\n"
   ],
   "metadata": {
    "collapsed": false
   }
  },
  {
   "cell_type": "code",
   "execution_count": 29,
   "outputs": [
    {
     "name": "stdout",
     "output_type": "stream",
     "text": [
      "[2, 3, 4]\n",
      "[2, 3]\n"
     ]
    }
   ],
   "source": [
    "# pop\n",
    "items = [1,2,3,4]\n",
    "items.pop(0) # provide the index\n",
    "print(items)\n",
    "\n",
    "items.pop() # if no index removes the last element\n",
    "print(items)"
   ],
   "metadata": {
    "collapsed": false
   }
  },
  {
   "cell_type": "code",
   "execution_count": 30,
   "outputs": [
    {
     "name": "stdout",
     "output_type": "stream",
     "text": [
      "[]\n"
     ]
    }
   ],
   "source": [
    "# clear\n",
    "items = [1,2,3,4]\n",
    "items.clear() # remove whole list\n",
    "print(items)"
   ],
   "metadata": {
    "collapsed": false
   }
  },
  {
   "cell_type": "markdown",
   "source": [
    "## Operations on List\n",
    "- Arthimetic\n",
    "- Membership\n",
    "- Loops"
   ],
   "metadata": {
    "collapsed": false
   }
  },
  {
   "cell_type": "code",
   "execution_count": 31,
   "outputs": [
    {
     "name": "stdout",
     "output_type": "stream",
     "text": [
      "[1, 2, 3, 4, 5, 6, 7, 8]\n",
      "[1, 2, 3, 4, 1, 2, 3, 4]\n"
     ]
    }
   ],
   "source": [
    "# Arthimetic (*, +)\n",
    "\n",
    "l1 = [1,2,3,4]\n",
    "l2 = [5,6,7,8]\n",
    "print(l1+l2)\n",
    "\n",
    "print(l1*2)\n"
   ],
   "metadata": {
    "collapsed": false
   }
  },
  {
   "cell_type": "code",
   "execution_count": 32,
   "outputs": [
    {
     "name": "stdout",
     "output_type": "stream",
     "text": [
      "True\n",
      "False\n",
      "False\n"
     ]
    }
   ],
   "source": [
    "# Membership\n",
    "\n",
    "print(3 in l1)\n",
    "print(5 in l1)\n",
    "print(3 not in l1)"
   ],
   "metadata": {
    "collapsed": false
   }
  },
  {
   "cell_type": "code",
   "execution_count": 33,
   "outputs": [
    {
     "name": "stdout",
     "output_type": "stream",
     "text": [
      "[1, 2, 3, 4]\n",
      "[5, 6, 7, 8]\n",
      "[1, 'Deepak', 2, 3, 4, 5, 6]\n",
      "[]\n",
      "[[[1, 2, 3], 1, 2, 3], 1, 2, 3]\n"
     ]
    }
   ],
   "source": [
    "# Loops\n",
    "\n",
    "for i in l1,l2,l,items,three_dimensional_list:\n",
    "    print(i)"
   ],
   "metadata": {
    "collapsed": false
   }
  },
  {
   "cell_type": "markdown",
   "source": [
    "## List Functions"
   ],
   "metadata": {
    "collapsed": false
   }
  },
  {
   "cell_type": "code",
   "execution_count": 35,
   "outputs": [
    {
     "name": "stdout",
     "output_type": "stream",
     "text": [
      "6\n",
      "-7\n",
      "5\n",
      "[-7, 0, 1, 2, 4, 5]\n",
      "[5, 4, 2, 1, 0, -7]\n",
      "1\n",
      "3\n",
      "[0, -7, 2, 5, 4, 1]\n",
      "[-7, 0, 1, 2, 4, 5]\n",
      "\n",
      "\n",
      "\n",
      "\n",
      "\n",
      "[-7, 0, 1, 2, 4, 5]\n",
      "1943949217344\n",
      "[-7, 0, 1, 2, 4, 5]\n",
      "1943949216128\n"
     ]
    }
   ],
   "source": [
    "items = [1,4,5,2,-7,0]\n",
    "\n",
    "print(len(items))\n",
    "\n",
    "print(min(items))\n",
    "\n",
    "print(max(items))\n",
    "\n",
    "print(sorted(items))\n",
    "\n",
    "print(sorted(items, reverse=True))\n",
    "\n",
    "print(items.count(-7))\n",
    "\n",
    "print(items.index(2))\n",
    "\n",
    "#Permanent Operation\n",
    "items.reverse()\n",
    "print(items)\n",
    "\n",
    "#Permanent Operation\n",
    "items.sort()\n",
    "print(items)\n",
    "\n",
    "print(\"\\n\\n\\n\\n\")\n",
    "# copy function used to create a shallow copy in memory that means a new memory\n",
    "list2 = items.copy()\n",
    "print(items)\n",
    "print(id(items))\n",
    "print(list2)\n",
    "print(id(list2))"
   ],
   "metadata": {
    "collapsed": false
   }
  },
  {
   "cell_type": "markdown",
   "source": [
    "## List Comprehension\n",
    "- A way to create to list in concise way\n",
    "- More time-efficient and space-efficient than loops\n",
    "- Requires few lines of code\n",
    "- Transform iterative processes into formula"
   ],
   "metadata": {
    "collapsed": false
   }
  },
  {
   "cell_type": "code",
   "execution_count": 58,
   "outputs": [
    {
     "name": "stdout",
     "output_type": "stream",
     "text": [
      "[1, 2, 3, 4, 5, 6, 7, 8, 9, 10]\n",
      "[1, 2, 3, 4, 5, 6, 7, 8, 9, 10]\n"
     ]
    }
   ],
   "source": [
    "# Add numbers 1-10 in list\n",
    "l = []\n",
    "for i in range(1,11):\n",
    "    l.append(i)\n",
    "print(l)\n",
    "\n",
    "\n",
    "# Using List Comprehension\n",
    "\n",
    "l2 = [i for i in range(1,11)]\n",
    "print(l2)"
   ],
   "metadata": {
    "collapsed": false
   }
  },
  {
   "cell_type": "code",
   "execution_count": 60,
   "outputs": [
    {
     "name": "stdout",
     "output_type": "stream",
     "text": [
      "[-6, -9, -12]\n"
     ]
    }
   ],
   "source": [
    "v = [2,3,4]\n",
    "s = -3\n",
    "x = [i*s for i in v]\n",
    "print(x)"
   ],
   "metadata": {
    "collapsed": false
   }
  },
  {
   "cell_type": "code",
   "execution_count": 62,
   "outputs": [
    {
     "name": "stdout",
     "output_type": "stream",
     "text": [
      "[1, 4, 9, 16, 25]\n"
     ]
    }
   ],
   "source": [
    "L = [1,2,3,4,5]\n",
    "X = [i*i for i in L]\n",
    "print(X)"
   ],
   "metadata": {
    "collapsed": false
   }
  },
  {
   "cell_type": "code",
   "execution_count": 66,
   "outputs": [
    {
     "name": "stdout",
     "output_type": "stream",
     "text": [
      "[2, 4, 6, 8, 10, 12, 14, 16, 18, 20, 22, 24, 26, 28, 30, 32, 34, 36, 38, 40, 42, 44, 46, 48, 50]\n"
     ]
    }
   ],
   "source": [
    "# Print Even Number\n",
    "even = [i for i in range(1,51) if i%2 == 0]\n",
    "print(even)"
   ],
   "metadata": {
    "collapsed": false
   }
  },
  {
   "cell_type": "code",
   "execution_count": 68,
   "outputs": [
    {
     "name": "stdout",
     "output_type": "stream",
     "text": [
      "['apple']\n"
     ]
    }
   ],
   "source": [
    "# Nested if in list comprehension\n",
    "basket = ['apple','guava','cherry','banana']\n",
    "my_fruits = ['apple','kiwi','grapes','banana']\n",
    "\n",
    "# add new list from my_fruits and items if the fruit exists in basket and also starts with 'a'\n",
    "final_list = [i for i in my_fruits if i in basket if i.startswith('a')]\n",
    "print(final_list)"
   ],
   "metadata": {
    "collapsed": false
   }
  },
  {
   "cell_type": "code",
   "execution_count": 75,
   "outputs": [
    {
     "name": "stdout",
     "output_type": "stream",
     "text": [
      "[[1, 2, 3], [2, 4, 6], [3, 6, 9]]\n"
     ]
    }
   ],
   "source": [
    "matrix = [[i*j for i in range(1,4)]for j in range(1,4)]\n",
    "print(matrix)"
   ],
   "metadata": {
    "collapsed": false
   }
  },
  {
   "cell_type": "code",
   "execution_count": 80,
   "outputs": [
    {
     "name": "stdout",
     "output_type": "stream",
     "text": [
      "[5, 6, 7, 8, 10, 12, 14, 16, 15, 18, 21, 24, 20, 24, 28, 32]\n"
     ]
    }
   ],
   "source": [
    "L1 = [1,2,3,4]\n",
    "L2 = [5,6,7,8]\n",
    "\n",
    "result = [i*j for i in l1 for j in L2]\n",
    "print(result)"
   ],
   "metadata": {
    "collapsed": false
   }
  },
  {
   "cell_type": "markdown",
   "source": [
    "## Ways to traverse the list"
   ],
   "metadata": {
    "collapsed": false
   }
  },
  {
   "cell_type": "code",
   "execution_count": 81,
   "outputs": [
    {
     "name": "stdout",
     "output_type": "stream",
     "text": [
      "1\n",
      "2\n",
      "3\n",
      "4\n"
     ]
    }
   ],
   "source": [
    "# itemwise\n",
    "l = [1,2,3,4]\n",
    "for i in l:\n",
    "    print(i)"
   ],
   "metadata": {
    "collapsed": false
   }
  },
  {
   "cell_type": "code",
   "execution_count": 84,
   "outputs": [
    {
     "name": "stdout",
     "output_type": "stream",
     "text": [
      "1\n",
      "2\n",
      "3\n",
      "4\n"
     ]
    }
   ],
   "source": [
    "#index wise\n",
    "for i in range(0,len(l)):\n",
    "    print(l[i])"
   ],
   "metadata": {
    "collapsed": false
   }
  },
  {
   "cell_type": "markdown",
   "source": [
    "## Zip\n",
    "\n",
    "The zip() function returns a zip object, which is an iterator of tuples where the first item in each passed iterator is paired together, and then the second item in each passed iterator are paired together.\n",
    "\n",
    "If the passed iterators have different lengths, the iterator with the least items decides the length of the new iterator."
   ],
   "metadata": {
    "collapsed": false
   }
  },
  {
   "cell_type": "code",
   "execution_count": 90,
   "outputs": [
    {
     "data": {
      "text/plain": "[6, 8, 10, 12]"
     },
     "execution_count": 90,
     "metadata": {},
     "output_type": "execute_result"
    }
   ],
   "source": [
    "l1 = [1,2,3,4]\n",
    "l2 = [5,6,7,8]\n",
    "# list(zip(l1,l2))\n",
    "\n",
    "[i+j for i,j in zip(l1,l2)]"
   ],
   "metadata": {
    "collapsed": false
   }
  },
  {
   "cell_type": "code",
   "execution_count": null,
   "outputs": [],
   "source": [],
   "metadata": {
    "collapsed": false
   }
  }
 ],
 "metadata": {
  "kernelspec": {
   "display_name": "Python 3",
   "language": "python",
   "name": "python3"
  },
  "language_info": {
   "codemirror_mode": {
    "name": "ipython",
    "version": 2
   },
   "file_extension": ".py",
   "mimetype": "text/x-python",
   "name": "python",
   "nbconvert_exporter": "python",
   "pygments_lexer": "ipython2",
   "version": "2.7.6"
  }
 },
 "nbformat": 4,
 "nbformat_minor": 0
}
