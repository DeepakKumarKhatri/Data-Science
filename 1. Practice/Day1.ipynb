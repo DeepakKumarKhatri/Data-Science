{
 "cells": [
  {
   "cell_type": "code",
   "execution_count": 1,
   "metadata": {
    "collapsed": true
   },
   "outputs": [
    {
     "name": "stdout",
     "output_type": "stream",
     "text": [
      "Hello World\n"
     ]
    }
   ],
   "source": [
    "print(\"Hello World\")"
   ]
  },
  {
   "cell_type": "markdown",
   "source": [
    "#### To make a space between characters use \",\""
   ],
   "metadata": {
    "collapsed": false
   }
  },
  {
   "cell_type": "code",
   "execution_count": 3,
   "outputs": [
    {
     "name": "stdout",
     "output_type": "stream",
     "text": [
      "Hello My name is Deepak and I'm 19 years old\n"
     ]
    }
   ],
   "source": [
    "print(\"Hello My name is Deepak and I'm\",19,\"years old\")"
   ],
   "metadata": {
    "collapsed": false
   }
  },
  {
   "cell_type": "code",
   "execution_count": 4,
   "outputs": [
    {
     "name": "stdout",
     "output_type": "stream",
     "text": [
      "Hello///I'm///Deepak///I'm///Learning///Datascience\n"
     ]
    }
   ],
   "source": [
    "print(\"Hello\",\"I'm\",\"Deepak\",\"I'm\",\"Learning\",\"Datascience\", sep='///')"
   ],
   "metadata": {
    "collapsed": false
   }
  },
  {
   "cell_type": "code",
   "execution_count": 22,
   "outputs": [
    {
     "name": "stdout",
     "output_type": "stream",
     "text": [
      "Deepak Kumar\n"
     ]
    }
   ],
   "source": [
    "print(\"Deepak\",end=' ')\n",
    "print(\"Kumar\")"
   ],
   "metadata": {
    "collapsed": false
   }
  },
  {
   "cell_type": "markdown",
   "source": [
    "## Data Types\n",
    "#### Python can handle these following datatypes\n",
    "- Integer ===> 1*10^308\n",
    "- String\n",
    "- Boolean ===> True/False\n",
    "- Decimal/Flot ===> 1.7*10^308\n",
    "- complex numbers ===> Example: 5+6j\n",
    "- list[]\n",
    "- tuple\n",
    "- dictionary\n",
    "- Sets\n",
    "- None"
   ],
   "metadata": {
    "collapsed": false
   }
  },
  {
   "cell_type": "markdown",
   "source": [
    "## Type"
   ],
   "metadata": {
    "collapsed": false
   }
  },
  {
   "cell_type": "code",
   "execution_count": 23,
   "outputs": [
    {
     "data": {
      "text/plain": "int"
     },
     "execution_count": 23,
     "metadata": {},
     "output_type": "execute_result"
    }
   ],
   "source": [
    "type(1)"
   ],
   "metadata": {
    "collapsed": false
   }
  },
  {
   "cell_type": "code",
   "execution_count": 24,
   "outputs": [
    {
     "data": {
      "text/plain": "list"
     },
     "execution_count": 24,
     "metadata": {},
     "output_type": "execute_result"
    }
   ],
   "source": [
    "type([1,2,3,4])"
   ],
   "metadata": {
    "collapsed": false
   }
  },
  {
   "cell_type": "markdown",
   "source": [
    "## Variables"
   ],
   "metadata": {
    "collapsed": false
   }
  },
  {
   "cell_type": "code",
   "execution_count": 25,
   "outputs": [
    {
     "name": "stdout",
     "output_type": "stream",
     "text": [
      "Deepak\n"
     ]
    }
   ],
   "source": [
    "name = 'Deepak'\n",
    "print(name)"
   ],
   "metadata": {
    "collapsed": false
   }
  },
  {
   "cell_type": "markdown",
   "source": [
    "### Dynamic Typing\n",
    "Where we don't tell the data type of variables\n",
    "### Static Typing\n",
    "Where we tell the data type of variables. E.g: C++, Java, C\n",
    "### Dynamic Binding\n",
    "If initially we have defined the data type of varaible something then we can change the datatype again to another so this is called dynamic binding\n",
    "### Static Binding\n",
    "Opposite of Dynamic Binding"
   ],
   "metadata": {
    "collapsed": false
   }
  },
  {
   "cell_type": "code",
   "execution_count": 26,
   "outputs": [
    {
     "name": "stdout",
     "output_type": "stream",
     "text": [
      "5\n",
      "Deepak\n"
     ]
    }
   ],
   "source": [
    "## Example of Dynamic Binding\n",
    "var = 5\n",
    "print(var)\n",
    "var = 'Deepak'\n",
    "print(var)"
   ],
   "metadata": {
    "collapsed": false
   }
  },
  {
   "cell_type": "code",
   "execution_count": 27,
   "outputs": [
    {
     "name": "stdout",
     "output_type": "stream",
     "text": [
      "1 2 3\n",
      "1 2 3\n",
      "5 5 5\n"
     ]
    }
   ],
   "source": [
    "## A good way to store variables\n",
    "a = 1\n",
    "b = 2\n",
    "c = 3\n",
    "print(a,b,c)\n",
    "a,b,c = 1,2,3\n",
    "print(a,b,c)\n",
    "a=b=c = 5\n",
    "print(a,b,c)"
   ],
   "metadata": {
    "collapsed": false
   }
  },
  {
   "cell_type": "code",
   "execution_count": null,
   "outputs": [],
   "source": [],
   "metadata": {
    "collapsed": false
   }
  }
 ],
 "metadata": {
  "kernelspec": {
   "display_name": "Python 3",
   "language": "python",
   "name": "python3"
  },
  "language_info": {
   "codemirror_mode": {
    "name": "ipython",
    "version": 2
   },
   "file_extension": ".py",
   "mimetype": "text/x-python",
   "name": "python",
   "nbconvert_exporter": "python",
   "pygments_lexer": "ipython2",
   "version": "2.7.6"
  }
 },
 "nbformat": 4,
 "nbformat_minor": 0
}
