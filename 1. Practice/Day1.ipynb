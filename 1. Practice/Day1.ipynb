{
 "cells": [
  {
   "cell_type": "code",
   "execution_count": 34,
   "metadata": {
    "collapsed": true
   },
   "outputs": [
    {
     "name": "stdout",
     "output_type": "stream",
     "text": [
      "Hello World\n"
     ]
    }
   ],
   "source": [
    "print(\"Hello World\")"
   ]
  },
  {
   "cell_type": "markdown",
   "source": [
    "#### To make a space between characters use \",\""
   ],
   "metadata": {
    "collapsed": false
   }
  },
  {
   "cell_type": "code",
   "execution_count": 35,
   "outputs": [
    {
     "name": "stdout",
     "output_type": "stream",
     "text": [
      "Hello My name is Deepak and I'm 19 years old\n"
     ]
    }
   ],
   "source": [
    "print(\"Hello My name is Deepak and I'm\",19,\"years old\")"
   ],
   "metadata": {
    "collapsed": false
   }
  },
  {
   "cell_type": "code",
   "execution_count": 36,
   "outputs": [
    {
     "name": "stdout",
     "output_type": "stream",
     "text": [
      "Hello///I'm///Deepak///I'm///Learning///Datascience\n"
     ]
    }
   ],
   "source": [
    "print(\"Hello\",\"I'm\",\"Deepak\",\"I'm\",\"Learning\",\"Datascience\", sep='///')"
   ],
   "metadata": {
    "collapsed": false
   }
  },
  {
   "cell_type": "code",
   "execution_count": 37,
   "outputs": [
    {
     "name": "stdout",
     "output_type": "stream",
     "text": [
      "Deepak Kumar\n"
     ]
    }
   ],
   "source": [
    "print(\"Deepak\",end=' ')\n",
    "print(\"Kumar\")"
   ],
   "metadata": {
    "collapsed": false
   }
  },
  {
   "cell_type": "markdown",
   "source": [
    "## Data Types\n",
    "#### Python can handle these following datatypes\n",
    "- Integer ===> 1*10^308\n",
    "- String\n",
    "- Boolean ===> True/False\n",
    "- Decimal/Flot ===> 1.7*10^308\n",
    "- complex numbers ===> Example: 5+6j\n",
    "- list[]\n",
    "- tuple\n",
    "- dictionary\n",
    "- Sets\n",
    "- None"
   ],
   "metadata": {
    "collapsed": false
   }
  },
  {
   "cell_type": "markdown",
   "source": [
    "## Type"
   ],
   "metadata": {
    "collapsed": false
   }
  },
  {
   "cell_type": "code",
   "execution_count": 38,
   "outputs": [
    {
     "data": {
      "text/plain": "int"
     },
     "execution_count": 38,
     "metadata": {},
     "output_type": "execute_result"
    }
   ],
   "source": [
    "type(1)"
   ],
   "metadata": {
    "collapsed": false
   }
  },
  {
   "cell_type": "code",
   "execution_count": 39,
   "outputs": [
    {
     "data": {
      "text/plain": "list"
     },
     "execution_count": 39,
     "metadata": {},
     "output_type": "execute_result"
    }
   ],
   "source": [
    "type([1,2,3,4])"
   ],
   "metadata": {
    "collapsed": false
   }
  },
  {
   "cell_type": "markdown",
   "source": [
    "## Variables"
   ],
   "metadata": {
    "collapsed": false
   }
  },
  {
   "cell_type": "code",
   "execution_count": 40,
   "outputs": [
    {
     "name": "stdout",
     "output_type": "stream",
     "text": [
      "Deepak\n"
     ]
    }
   ],
   "source": [
    "name = 'Deepak'\n",
    "print(name)"
   ],
   "metadata": {
    "collapsed": false
   }
  },
  {
   "cell_type": "markdown",
   "source": [
    "### Dynamic Typing\n",
    "Where we don't tell the data type of variables\n",
    "### Static Typing\n",
    "Where we tell the data type of variables. E.g: C++, Java, C\n",
    "### Dynamic Binding\n",
    "If initially we have defined the data type of varaible something then we can change the datatype again to another so this is called dynamic binding\n",
    "### Static Binding\n",
    "Opposite of Dynamic Binding"
   ],
   "metadata": {
    "collapsed": false
   }
  },
  {
   "cell_type": "code",
   "execution_count": 41,
   "outputs": [
    {
     "name": "stdout",
     "output_type": "stream",
     "text": [
      "5\n",
      "Deepak\n"
     ]
    }
   ],
   "source": [
    "## Example of Dynamic Binding\n",
    "var = 5\n",
    "print(var)\n",
    "var = 'Deepak'\n",
    "print(var)"
   ],
   "metadata": {
    "collapsed": false
   }
  },
  {
   "cell_type": "code",
   "execution_count": 42,
   "outputs": [
    {
     "name": "stdout",
     "output_type": "stream",
     "text": [
      "1 2 3\n",
      "1 2 3\n",
      "5 5 5\n"
     ]
    }
   ],
   "source": [
    "## A good way to store variables\n",
    "a = 1\n",
    "b = 2\n",
    "c = 3\n",
    "print(a,b,c)\n",
    "a,b,c = 1,2,3\n",
    "print(a,b,c)\n",
    "a=b=c = 5\n",
    "print(a,b,c)"
   ],
   "metadata": {
    "collapsed": false
   }
  },
  {
   "cell_type": "markdown",
   "source": [
    "## Keywords\n",
    "- There are 33 reserved keywords for python"
   ],
   "metadata": {
    "collapsed": false
   }
  },
  {
   "cell_type": "markdown",
   "source": [
    "## User Inputs"
   ],
   "metadata": {
    "collapsed": false
   }
  },
  {
   "cell_type": "code",
   "execution_count": 43,
   "outputs": [
    {
     "name": "stdout",
     "output_type": "stream",
     "text": [
      "The sum is: 99691529087174\n"
     ]
    }
   ],
   "source": [
    "num1 = eval(input(\"Enter Number 1: \"))\n",
    "num2 = eval(input(\"Enter Number 2: \"))\n",
    "print(\"The sum is:\",num1+num2)"
   ],
   "metadata": {
    "collapsed": false
   }
  },
  {
   "cell_type": "code",
   "execution_count": 44,
   "outputs": [
    {
     "name": "stdout",
     "output_type": "stream",
     "text": [
      "The sum is: gdfgkjdgfgdhgjdgkjdetrertertertre\n"
     ]
    }
   ],
   "source": [
    "input1 = input(\"Enter 1: \")\n",
    "input2 = input(\"Enter 2: \")\n",
    "print(\"The sum is:\",input1+input2)"
   ],
   "metadata": {
    "collapsed": false
   }
  },
  {
   "cell_type": "markdown",
   "source": [
    "## Literals\n",
    "Literals are nothing but a value assigned to the variables\n"
   ],
   "metadata": {
    "collapsed": false
   }
  },
  {
   "cell_type": "markdown",
   "source": [
    "## Implicit vs Explicit\n",
    "The term implicit means that the code will be internally type converted by the python interpretor.\n",
    "- Example: print(4+4.5)\n",
    "The term explicit means that the code will be type converted by the programmer itself.\n",
    "- Example: a = int (4.5)"
   ],
   "metadata": {
    "collapsed": false
   }
  },
  {
   "cell_type": "code",
   "execution_count": 51,
   "outputs": [
    {
     "name": "stdout",
     "output_type": "stream",
     "text": [
      "4\n"
     ]
    }
   ],
   "source": [
    "a = int (4.55)\n",
    "print(a)"
   ],
   "metadata": {
    "collapsed": false
   }
  }
 ],
 "metadata": {
  "kernelspec": {
   "display_name": "Python 3",
   "language": "python",
   "name": "python3"
  },
  "language_info": {
   "codemirror_mode": {
    "name": "ipython",
    "version": 2
   },
   "file_extension": ".py",
   "mimetype": "text/x-python",
   "name": "python",
   "nbconvert_exporter": "python",
   "pygments_lexer": "ipython2",
   "version": "2.7.6"
  }
 },
 "nbformat": 4,
 "nbformat_minor": 0
}
