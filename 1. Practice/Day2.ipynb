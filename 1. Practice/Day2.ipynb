{
 "cells": [
  {
   "cell_type": "markdown",
   "source": [
    "# Operators\n",
    "- Arthamatic (+,-,/,//,%,*)\n",
    "- Relational (>,<,>=,<=)\n",
    "- Bitwise\n",
    "- Membership (in,not in)\n",
    "- Assignment (=)\n",
    "- Equality (==,!=)\n",
    "*NOTE:* writing only += is allowed not ++a or a++"
   ],
   "metadata": {
    "collapsed": false
   }
  },
  {
   "cell_type": "markdown",
   "source": [],
   "metadata": {
    "collapsed": false
   }
  },
  {
   "cell_type": "code",
   "execution_count": 3,
   "outputs": [
    {
     "name": "stdout",
     "output_type": "stream",
     "text": [
      "The sum is: 6\n"
     ]
    }
   ],
   "source": [
    "num = eval(input(\"Enter a 3 digit Number: \"))\n",
    "first = num%10\n",
    "num = num//10;\n",
    "second = num%10\n",
    "num = num//10;\n",
    "third = num%10\n",
    "num = num//10;\n",
    "print(\"The sum is:\",(first+second+third))"
   ],
   "metadata": {
    "collapsed": false
   }
  },
  {
   "cell_type": "markdown",
   "source": [
    "# If-else\n",
    "Python has if-else, if-elif-else"
   ],
   "metadata": {
    "collapsed": false
   }
  },
  {
   "cell_type": "code",
   "execution_count": 6,
   "outputs": [
    {
     "name": "stdout",
     "output_type": "stream",
     "text": [
      "Less\n"
     ]
    }
   ],
   "source": [
    "if 40>50:\n",
    "    print(\"Greater\")\n",
    "else:\n",
    "    print(\"Less\")"
   ],
   "metadata": {
    "collapsed": false
   }
  },
  {
   "cell_type": "code",
   "execution_count": 12,
   "outputs": [
    {
     "name": "stdout",
     "output_type": "stream",
     "text": [
      "Partially Correct\n"
     ]
    }
   ],
   "source": [
    "email = input(\"Enter Email\")\n",
    "password = input(\"Enter Password\")\n",
    "\n",
    "if email == \"deepak\" and password==\"deepak\":\n",
    "    print(\"Welcome\")\n",
    "elif (email == \"deepak\" or password == \"deepak\"):\n",
    "    print(\"Partially Correct\")\n",
    "else:\n",
    "    print(\"FO\")"
   ],
   "metadata": {
    "collapsed": false
   }
  },
  {
   "cell_type": "markdown",
   "source": [
    "# Modules"
   ],
   "metadata": {
    "collapsed": false
   }
  },
  {
   "cell_type": "code",
   "execution_count": 15,
   "outputs": [
    {
     "name": "stdout",
     "output_type": "stream",
     "text": [
      "3.0\n"
     ]
    }
   ],
   "source": [
    "import math\n",
    "print(math.sqrt(9))"
   ],
   "metadata": {
    "collapsed": false
   }
  },
  {
   "cell_type": "code",
   "execution_count": 17,
   "outputs": [
    {
     "name": "stdout",
     "output_type": "stream",
     "text": [
      "['False', 'None', 'True', 'and', 'as', 'assert', 'async', 'await', 'break', 'class', 'continue', 'def', 'del', 'elif', 'else', 'except', 'finally', 'for', 'from', 'global', 'if', 'import', 'in', 'is', 'lambda', 'nonlocal', 'not', 'or', 'pass', 'raise', 'return', 'try', 'while', 'with', 'yield']\n",
      "35\n"
     ]
    }
   ],
   "source": [
    "import keyword\n",
    "print(keyword.kwlist)\n",
    "print(len(keyword.kwlist))\n"
   ],
   "metadata": {
    "collapsed": false
   }
  },
  {
   "cell_type": "code",
   "execution_count": 130,
   "outputs": [
    {
     "name": "stdout",
     "output_type": "stream",
     "text": [
      "3104308816173\n"
     ]
    }
   ],
   "source": [
    "import random\n",
    "print(random.randint(1,10000000000000))"
   ],
   "metadata": {
    "collapsed": false
   }
  },
  {
   "cell_type": "code",
   "execution_count": 131,
   "outputs": [
    {
     "name": "stdout",
     "output_type": "stream",
     "text": [
      "2023-02-04 20:58:41.411314\n"
     ]
    }
   ],
   "source": [
    "import datetime\n",
    "print(datetime.datetime.now())"
   ],
   "metadata": {
    "collapsed": false
   }
  },
  {
   "cell_type": "code",
   "execution_count": 133,
   "outputs": [
    {
     "name": "stdout",
     "output_type": "stream",
     "text": [
      "\n",
      "Please wait a moment while I gather a list of all available modules...\n",
      "\n",
      "IPython             base64              mmapfile            sspi\n",
      "__future__          bdb                 mmsystem            sspicon\n",
      "__hello__           binascii            modulefinder        stack_data\n",
      "__phello__          bisect              msilib              stat\n",
      "_abc                bleach              msvcrt              statistics\n",
      "_aix_support        bs4                 multiprocessing     string\n",
      "_argon2_cffi_bindings builtins            nbclassic           stringprep\n",
      "_ast                bz2                 nbclient            struct\n",
      "_asyncio            cProfile            nbconvert           subprocess\n",
      "_bisect             calendar            nbformat            sunau\n",
      "_blake2             cffi                nest_asyncio        symtable\n",
      "_bootsubprocess     cgi                 netbios             sys\n",
      "_bz2                cgitb               netrc               sysconfig\n",
      "_cffi_backend       chunk               nntplib             tabnanny\n",
      "_codecs             cmath               notebook            tarfile\n",
      "_codecs_cn          cmd                 notebook_shim       telnetlib\n",
      "_codecs_hk          code                nt                  tempfile\n",
      "_codecs_iso2022     codecs              ntpath              terminado\n",
      "_codecs_jp          codeop              ntsecuritycon       test\n",
      "_codecs_kr          collections         nturl2path          textwrap\n",
      "_codecs_tw          colorama            numbers             this\n",
      "_collections        colorsys            odbc                threading\n",
      "_collections_abc    comm                opcode              time\n",
      "_compat_pickle      commctrl            operator            timeit\n",
      "_compression        compileall          optparse            timer\n",
      "_contextvars        concurrent          os                  tinycss2\n",
      "_csv                configparser        packaging           tkinter\n",
      "_ctypes             conftest            pandocfilters       token\n",
      "_ctypes_test        contextlib          parso               tokenize\n",
      "_datetime           contextvars         pathlib             tomllib\n",
      "_decimal            copy                pdb                 tornado\n",
      "_distutils_hack     copyreg             perfmon             trace\n",
      "_elementtree        crypt               pickle              traceback\n",
      "_functools          csv                 pickleshare         tracemalloc\n",
      "_hashlib            ctypes              pickletools         traitlets\n",
      "_heapq              curses              pip                 tty\n",
      "_imp                dataclasses         pipes               turtle\n",
      "_io                 datetime            pkg_resources       turtledemo\n",
      "_json               dateutil            pkgutil             types\n",
      "_locale             dbi                 platform            typing\n",
      "_lsprof             dbm                 platformdirs        unicodedata\n",
      "_lzma               dde                 plistlib            unittest\n",
      "_markupbase         debugpy             poplib              uri_template\n",
      "_md5                decimal             posixpath           urllib\n",
      "_msi                decorator           pprint              uu\n",
      "_multibytecodec     defusedxml          profile             uuid\n",
      "_multiprocessing    difflib             prometheus_client   venv\n",
      "_opcode             dis                 prompt_toolkit      warnings\n",
      "_operator           distutils           pstats              wave\n",
      "_osx_support        doctest             psutil              wcwidth\n",
      "_overlapped         email               pty                 weakref\n",
      "_pickle             encodings           pure_eval           webbrowser\n",
      "_py_abc             ensurepip           pvectorc            webcolors\n",
      "_pydecimal          enum                py_compile          webencodings\n",
      "_pydev_bundle       errno               pyclbr              websocket\n",
      "_pydev_comm         executing           pycompletionserver  wheel\n",
      "_pydev_imps         fastjsonschema      pycparser           widgetsnbextension\n",
      "_pydev_runfiles     faulthandler        pydev_app_engine_debug_startup win2kras\n",
      "_pydevd_asyncio_util filecmp             pydev_console       win32api\n",
      "_pydevd_bundle      fileinput           pydev_coverage      win32clipboard\n",
      "_pydevd_frame_eval  fnmatch             pydev_ipython       win32com\n",
      "_pyio               fqdn                pydev_jupyter_plugin win32con\n",
      "_pyrsistent_version fractions           pydev_jupyter_utils win32console\n",
      "_queue              ftplib              pydev_jupyter_vars  win32cred\n",
      "_random             functools           pydev_pysrc         win32crypt\n",
      "_sha1               gc                  pydevconsole        win32cryptcon\n",
      "_sha256             genericpath         pydevd              win32event\n",
      "_sha3               getopt              pydevd_concurrency_analyser win32evtlog\n",
      "_sha512             getpass             pydevd_file_utils   win32evtlogutil\n",
      "_signal             gettext             pydevd_plugins      win32file\n",
      "_sitebuiltins       glob                pydevd_pycharm      win32gui\n",
      "_socket             graphlib            pydevd_tracing      win32gui_struct\n",
      "_sqlite3            gzip                pydoc               win32help\n",
      "_sre                hashlib             pydoc_data          win32inet\n",
      "_ssl                heapq               pyexpat             win32inetcon\n",
      "_stat               hmac                pygments            win32job\n",
      "_statistics         html                pyrsistent          win32lz\n",
      "_string             http                pythoncom           win32net\n",
      "_strptime           idlelib             pythonjsonlogger    win32netcon\n",
      "_struct             idna                pywin               win32pdh\n",
      "_symtable           imaplib             pywin32_bootstrap   win32pdhquery\n",
      "_testbuffer         imghdr              pywin32_testutil    win32pdhutil\n",
      "_testcapi           imp                 pywintypes          win32pipe\n",
      "_testconsole        importlib           qtconsole           win32print\n",
      "_testimportmultiple inspect             qtpy                win32process\n",
      "_testinternalcapi   interpreterInfo     queue               win32profile\n",
      "_testmultiphase     io                  quopri              win32ras\n",
      "_thread             ipaddress           random              win32rcparser\n",
      "_threading_local    ipykernel           rasutil             win32security\n",
      "_tkinter            ipykernel_launcher  re                  win32service\n",
      "_tokenize           ipython_genutils    regcheck            win32serviceutil\n",
      "_tracemalloc        ipywidgets          regutil             win32timezone\n",
      "_typing             isapi               reprlib             win32trace\n",
      "_uuid               isoduration         rfc3339_validator   win32traceutil\n",
      "_virtualenv         itertools           rfc3986_validator   win32transaction\n",
      "_warnings           jedi                rlcompleter         win32ts\n",
      "_weakref            jinja2              runfiles            win32ui\n",
      "_weakrefset         json                runpy               win32uiole\n",
      "_win32sysloader     jsonpointer         sched               win32verstamp\n",
      "_winapi             jsonschema          secrets             win32wnet\n",
      "_winxptheme         jupyter             select              winerror\n",
      "_xxsubinterpreters  jupyter_client      selectors           winioctlcon\n",
      "_yaml               jupyter_console     send2trash          winnt\n",
      "_zoneinfo           jupyter_core        servicemanager      winperf\n",
      "abc                 jupyter_events      setup_cython        winpty\n",
      "adodbapi            jupyter_server      setuptools          winreg\n",
      "afxres              jupyter_server_terminals shelve              winsound\n",
      "aifc                jupyterlab_pygments shlex               winxpgui\n",
      "antigravity         jupyterlab_widgets  shutil              winxptheme\n",
      "anyio               keyword             signal              wsgiref\n",
      "argon2              lib2to3             site                xdrlib\n",
      "argparse            linecache           six                 xml\n",
      "array               locale              smtpd               xmlrpc\n",
      "arrow               logging             smtplib             xxsubtype\n",
      "ast                 lzma                sndhdr              yaml\n",
      "asttokens           mailbox             sniffio             zipapp\n",
      "asynchat            mailcap             socket              zipfile\n",
      "asyncio             markupsafe          socketserver        zipimport\n",
      "asyncore            marshal             soupsieve           zlib\n",
      "atexit              math                sqlite3             zmq\n",
      "attr                matplotlib_inline   sre_compile         zoneinfo\n",
      "attrs               mimetypes           sre_constants       \n",
      "audioop             mistune             sre_parse           \n",
      "backcall            mmap                ssl                 \n",
      "\n",
      "Enter any module name to get more help.  Or, type \"modules spam\" to search\n",
      "for modules whose name or summary contain the string \"spam\".\n",
      "\n"
     ]
    }
   ],
   "source": [
    "help('modules')"
   ],
   "metadata": {
    "collapsed": false
   }
  },
  {
   "cell_type": "markdown",
   "source": [
    "# Loops"
   ],
   "metadata": {
    "collapsed": false
   }
  },
  {
   "cell_type": "code",
   "execution_count": 136,
   "outputs": [
    {
     "name": "stdout",
     "output_type": "stream",
     "text": [
      "10 * 1 = 10\n",
      "10 * 2 = 20\n",
      "10 * 3 = 30\n",
      "10 * 4 = 40\n",
      "10 * 5 = 50\n",
      "10 * 6 = 60\n",
      "10 * 7 = 70\n",
      "10 * 8 = 80\n",
      "10 * 9 = 90\n",
      "10 * 10 = 100\n"
     ]
    }
   ],
   "source": [
    "number = 10\n",
    "i = 1\n",
    "while(i<=number):\n",
    "    print(number,\"*\",i,\"=\",number*i)\n",
    "    i+=1"
   ],
   "metadata": {
    "collapsed": false
   }
  },
  {
   "cell_type": "code",
   "execution_count": 137,
   "outputs": [
    {
     "name": "stdout",
     "output_type": "stream",
     "text": [
      "1\n",
      "2\n",
      "Limit crossed\n"
     ]
    }
   ],
   "source": [
    "# while loop with else\n",
    "\n",
    "x=1\n",
    "while(x<3):\n",
    "    print(x)\n",
    "    x+=1\n",
    "else:\n",
    "    print(\"Limit crossed\")"
   ],
   "metadata": {
    "collapsed": false
   }
  },
  {
   "cell_type": "code",
   "execution_count": 142,
   "outputs": [
    {
     "ename": "SyntaxError",
     "evalue": "invalid syntax (<string>, line 0)",
     "output_type": "error",
     "traceback": [
      "Traceback \u001B[1;36m(most recent call last)\u001B[0m:\n",
      "\u001B[0m  File \u001B[0;32mF:\\DataScience\\venv\\Lib\\site-packages\\IPython\\core\\interactiveshell.py:3442\u001B[0m in \u001B[0;35mrun_code\u001B[0m\n    exec(code_obj, self.user_global_ns, self.user_ns)\u001B[0m\n",
      "\u001B[1;36m  Cell \u001B[1;32mIn[142], line 3\u001B[1;36m\n\u001B[1;33m    guess_number = eval(input(\"Enter Number\"))\u001B[1;36m\n",
      "\u001B[1;36m  File \u001B[1;32m<string>\u001B[1;36m\u001B[0m\n\u001B[1;33m    \u001B[0m\n\u001B[1;37m    ^\u001B[0m\n\u001B[1;31mSyntaxError\u001B[0m\u001B[1;31m:\u001B[0m invalid syntax\n"
     ]
    }
   ],
   "source": [
    "# Guess Game\n",
    "magic_number = random.randint(0,100)\n",
    "guess_number = eval(input(\"Enter Number\"))\n",
    "count = 0\n",
    "\n",
    "while(magic_number!=guess_number):\n",
    "    if(guess_number>magic_number):\n",
    "        print(\"Wrong! You guess above\")\n",
    "        count+=1;\n",
    "    elif(guess_number<magic_number):\n",
    "        print(\"Wrong! You guess below\")\n",
    "        count+=1;\n",
    "    guess_number = eval(input(\"Enter Number\"))\n",
    "else:\n",
    "    print(\"Yayy! You guessed it right in\",count,\"attempts\")"
   ],
   "metadata": {
    "collapsed": false
   }
  },
  {
   "cell_type": "code",
   "execution_count": 146,
   "outputs": [
    {
     "name": "stdout",
     "output_type": "stream",
     "text": [
      "1\n",
      "2\n",
      "3\n",
      "4\n"
     ]
    }
   ],
   "source": [
    "# For Loops\n",
    "\n",
    "for i in range(1,5):\n",
    "    print(i)"
   ],
   "metadata": {
    "collapsed": false
   }
  },
  {
   "cell_type": "code",
   "execution_count": null,
   "outputs": [],
   "source": [],
   "metadata": {
    "collapsed": false
   }
  }
 ],
 "metadata": {
  "kernelspec": {
   "display_name": "Python 3",
   "language": "python",
   "name": "python3"
  },
  "language_info": {
   "codemirror_mode": {
    "name": "ipython",
    "version": 2
   },
   "file_extension": ".py",
   "mimetype": "text/x-python",
   "name": "python",
   "nbconvert_exporter": "python",
   "pygments_lexer": "ipython2",
   "version": "2.7.6"
  }
 },
 "nbformat": 4,
 "nbformat_minor": 0
}
