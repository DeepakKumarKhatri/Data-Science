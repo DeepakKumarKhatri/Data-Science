{
 "cells": [
  {
   "cell_type": "markdown",
   "source": [
    "## Lists"
   ],
   "metadata": {
    "collapsed": false
   }
  },
  {
   "cell_type": "code",
   "execution_count": 45,
   "metadata": {
    "collapsed": true
   },
   "outputs": [
    {
     "name": "stdout",
     "output_type": "stream",
     "text": [
      "[1, 2, 3, 4.6, 7.8, True, False, [2, 3, 4], (9, 0, 4), 'Hello Deepak', 'Kumar khatri']\n"
     ]
    }
   ],
   "source": [
    "deepak_items = [1,2,3,4.6,7.8,True,False,[2,3,4],(9,0,4),\"Hello Deepak\",'Kumar khatri']\n",
    "print(deepak_items)"
   ]
  },
  {
   "cell_type": "markdown",
   "source": [
    "## Creating List"
   ],
   "metadata": {
    "collapsed": false
   }
  },
  {
   "cell_type": "code",
   "execution_count": 46,
   "outputs": [
    {
     "name": "stdout",
     "output_type": "stream",
     "text": [
      "[]\n",
      "[1, 2, 3, 4]\n",
      "[[1, 2, 3], [1, 2, 3]]\n",
      "[[1, 2, 3], 1, 2, 3]\n",
      "[1, 2, 3]\n",
      "1\n",
      "['D', 'e', 'e', 'p', 'a', 'k']\n"
     ]
    }
   ],
   "source": [
    "# Empty\n",
    "print([])\n",
    "# 1D List\n",
    "print([1,2,3,4])\n",
    "# 2D List\n",
    "print([[1,2,3],[1,2,3]])\n",
    "# 3D List\n",
    "three_dimensional_list = [[[1,2,3],1,2,3],1,2,3]\n",
    "print(three_dimensional_list[0])\n",
    "print(three_dimensional_list[0][0])\n",
    "print(three_dimensional_list[0][0][0])\n",
    "\n",
    "#Type Conversion\n",
    "print(list(\"Deepak\"))"
   ],
   "metadata": {
    "collapsed": false
   }
  },
  {
   "cell_type": "markdown",
   "source": [
    "## Accessing Elements in List\n",
    "- Slicing\n",
    "- Indexing"
   ],
   "metadata": {
    "collapsed": false
   }
  },
  {
   "cell_type": "markdown",
   "source": [
    "### Indexing"
   ],
   "metadata": {
    "collapsed": false
   }
  },
  {
   "cell_type": "code",
   "execution_count": 47,
   "outputs": [
    {
     "name": "stdout",
     "output_type": "stream",
     "text": [
      "1\n",
      "6\n",
      "[6, 7]\n",
      "2\n",
      "6\n",
      "7\n"
     ]
    }
   ],
   "source": [
    "items = [1,2,3,4,5,[6,7]]\n",
    "#Positive indexing\n",
    "print(items[0])\n",
    "#Lets enter into the list of list\n",
    "print(items[5][0])\n",
    "\n",
    "#Negative indexing\n",
    "print(items[-1])\n",
    "print(items[-5])\n",
    "#Lets enter into the list of list\n",
    "print(items[-1][0])\n",
    "\n",
    "\n",
    "items = [[[9,8,6],[1,2,3],[4,7,6]],[9,8,0]]\n",
    "print(items[0][2][1])\n"
   ],
   "metadata": {
    "collapsed": false
   }
  },
  {
   "cell_type": "markdown",
   "source": [
    "### Slicing"
   ],
   "metadata": {
    "collapsed": false
   }
  },
  {
   "cell_type": "code",
   "execution_count": 48,
   "outputs": [
    {
     "name": "stdout",
     "output_type": "stream",
     "text": [
      "[1, 2, 3, 4, 5, [6, 7]]\n",
      "[1, 2, 3]\n",
      "[[6, 7], 5, 4, 3, 2, 1]\n",
      "[4, 5, [6, 7]]\n",
      "[1, 3, 5]\n"
     ]
    }
   ],
   "source": [
    "items = [1,2,3,4,5,[6,7]]\n",
    "print(items[:])\n",
    "print(items[0:3])\n",
    "print(items[::-1])\n",
    "print(items[3:])\n",
    "print(items[0::2])"
   ],
   "metadata": {
    "collapsed": false
   }
  },
  {
   "cell_type": "markdown",
   "source": [
    "### Adding items to a List"
   ],
   "metadata": {
    "collapsed": false
   }
  },
  {
   "cell_type": "code",
   "execution_count": 58,
   "outputs": [
    {
     "name": "stdout",
     "output_type": "stream",
     "text": [
      "[1, 2, 3, 4, ['This', 'Is', 'Result', 'of', 'Append']]\n",
      "[1, 2, 3, 4, ['This', 'Is', 'Result', 'of', 'Append'], 5, 6, 7]\n",
      "[1, 2, 3, 4, ['This', 'Is', 'Result', 'of', 'Append'], 5, 6, 7, 'D', 'e', 'e', 'p', 'a', 'k', ' ', 'K', 'u', 'm', 'a', 'r']\n",
      "[1, 'Deepak', 2, 3, 4, 5, 6]\n"
     ]
    }
   ],
   "source": [
    "# append\n",
    "l = [1,2,3]\n",
    "l.append(4)\n",
    "l.append([\"This\",\"Is\",\"Result\",\"of\",\"Append\"])\n",
    "print(l)\n",
    "\n",
    "#extend --> Add multiple items in one go\n",
    "l.extend([5,6,7])\n",
    "print(l)\n",
    "\n",
    "l.extend(\"Deepak Kumar\")\n",
    "print(l)\n",
    "\n",
    "\n",
    "\n",
    "#insert --> add at your desired index in list\n",
    "l = [1,2,3,4,5,6]\n",
    "l.insert(1,\"Deepak\")\n",
    "print(l)"
   ],
   "metadata": {
    "collapsed": false
   }
  }
 ],
 "metadata": {
  "kernelspec": {
   "display_name": "Python 3",
   "language": "python",
   "name": "python3"
  },
  "language_info": {
   "codemirror_mode": {
    "name": "ipython",
    "version": 2
   },
   "file_extension": ".py",
   "mimetype": "text/x-python",
   "name": "python",
   "nbconvert_exporter": "python",
   "pygments_lexer": "ipython2",
   "version": "2.7.6"
  }
 },
 "nbformat": 4,
 "nbformat_minor": 0
}
